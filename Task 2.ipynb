{
 "cells": [
  {
   "cell_type": "markdown",
   "metadata": {},
   "source": [
    "# Task 2\n"
   ]
  },
  {
   "cell_type": "markdown",
   "metadata": {},
   "source": [
    "1.\tClean the data – you might have to address missing values, duplicates, data type conversions, transformations, and multicollinearity, as well as outliers.\n",
    "2.\tPerform some exploratory data analysis. Look into the data types, data statistics, and identify any missing data or null values, and how often they appear in the data. Visualize specific parameters as well as variable distributions.\n"
   ]
  },
  {
   "cell_type": "code",
   "execution_count": 1,
   "metadata": {},
   "outputs": [],
   "source": [
    "import numpy as np\n",
    "import pandas as pd\n",
    "import seaborn as sns\n",
    "import matplotlib.pyplot as plt\n",
    "import pickle\n",
    "import datetime\n",
    "import os"
   ]
  },
  {
   "cell_type": "markdown",
   "metadata": {},
   "source": [
    "## 1. Data loading"
   ]
  },
  {
   "cell_type": "code",
   "execution_count": 69,
   "metadata": {},
   "outputs": [],
   "source": [
    "data = pd.read_csv('./ml_case_training_data.csv')\n",
    "hist_data = pd.read_csv('./ml_case_training_hist_data.csv')\n",
    "output_data = pd.read_csv('./ml_case_training_output.csv')\n"
   ]
  },
  {
   "cell_type": "code",
   "execution_count": 70,
   "metadata": {},
   "outputs": [
    {
     "name": "stdout",
     "output_type": "stream",
     "text": [
      "(16096, 32)\n"
     ]
    },
    {
     "data": {
      "text/html": [
       "<div>\n",
       "<style scoped>\n",
       "    .dataframe tbody tr th:only-of-type {\n",
       "        vertical-align: middle;\n",
       "    }\n",
       "\n",
       "    .dataframe tbody tr th {\n",
       "        vertical-align: top;\n",
       "    }\n",
       "\n",
       "    .dataframe thead th {\n",
       "        text-align: right;\n",
       "    }\n",
       "</style>\n",
       "<table border=\"1\" class=\"dataframe\">\n",
       "  <thead>\n",
       "    <tr style=\"text-align: right;\">\n",
       "      <th></th>\n",
       "      <th>id</th>\n",
       "      <th>activity_new</th>\n",
       "      <th>campaign_disc_ele</th>\n",
       "      <th>channel_sales</th>\n",
       "      <th>cons_12m</th>\n",
       "      <th>cons_gas_12m</th>\n",
       "      <th>cons_last_month</th>\n",
       "      <th>date_activ</th>\n",
       "      <th>date_end</th>\n",
       "      <th>date_first_activ</th>\n",
       "      <th>...</th>\n",
       "      <th>forecast_price_pow_p1</th>\n",
       "      <th>has_gas</th>\n",
       "      <th>imp_cons</th>\n",
       "      <th>margin_gross_pow_ele</th>\n",
       "      <th>margin_net_pow_ele</th>\n",
       "      <th>nb_prod_act</th>\n",
       "      <th>net_margin</th>\n",
       "      <th>num_years_antig</th>\n",
       "      <th>origin_up</th>\n",
       "      <th>pow_max</th>\n",
       "    </tr>\n",
       "  </thead>\n",
       "  <tbody>\n",
       "    <tr>\n",
       "      <th>0</th>\n",
       "      <td>48ada52261e7cf58715202705a0451c9</td>\n",
       "      <td>esoiiifxdlbkcsluxmfuacbdckommixw</td>\n",
       "      <td>NaN</td>\n",
       "      <td>lmkebamcaaclubfxadlmueccxoimlema</td>\n",
       "      <td>309275</td>\n",
       "      <td>0</td>\n",
       "      <td>10025</td>\n",
       "      <td>2012-11-07</td>\n",
       "      <td>2016-11-06</td>\n",
       "      <td>NaN</td>\n",
       "      <td>...</td>\n",
       "      <td>58.995952</td>\n",
       "      <td>f</td>\n",
       "      <td>831.8</td>\n",
       "      <td>-41.76</td>\n",
       "      <td>-41.76</td>\n",
       "      <td>1</td>\n",
       "      <td>1732.36</td>\n",
       "      <td>3</td>\n",
       "      <td>ldkssxwpmemidmecebumciepifcamkci</td>\n",
       "      <td>180.000</td>\n",
       "    </tr>\n",
       "    <tr>\n",
       "      <th>1</th>\n",
       "      <td>24011ae4ebbe3035111d65fa7c15bc57</td>\n",
       "      <td>NaN</td>\n",
       "      <td>NaN</td>\n",
       "      <td>foosdfpfkusacimwkcsosbicdxkicaua</td>\n",
       "      <td>0</td>\n",
       "      <td>54946</td>\n",
       "      <td>0</td>\n",
       "      <td>2013-06-15</td>\n",
       "      <td>2016-06-15</td>\n",
       "      <td>NaN</td>\n",
       "      <td>...</td>\n",
       "      <td>40.606701</td>\n",
       "      <td>t</td>\n",
       "      <td>0.0</td>\n",
       "      <td>25.44</td>\n",
       "      <td>25.44</td>\n",
       "      <td>2</td>\n",
       "      <td>678.99</td>\n",
       "      <td>3</td>\n",
       "      <td>lxidpiddsbxsbosboudacockeimpuepw</td>\n",
       "      <td>43.648</td>\n",
       "    </tr>\n",
       "    <tr>\n",
       "      <th>2</th>\n",
       "      <td>d29c2c54acc38ff3c0614d0a653813dd</td>\n",
       "      <td>NaN</td>\n",
       "      <td>NaN</td>\n",
       "      <td>NaN</td>\n",
       "      <td>4660</td>\n",
       "      <td>0</td>\n",
       "      <td>0</td>\n",
       "      <td>2009-08-21</td>\n",
       "      <td>2016-08-30</td>\n",
       "      <td>NaN</td>\n",
       "      <td>...</td>\n",
       "      <td>44.311378</td>\n",
       "      <td>f</td>\n",
       "      <td>0.0</td>\n",
       "      <td>16.38</td>\n",
       "      <td>16.38</td>\n",
       "      <td>1</td>\n",
       "      <td>18.89</td>\n",
       "      <td>6</td>\n",
       "      <td>kamkkxfxxuwbdslkwifmmcsiusiuosws</td>\n",
       "      <td>13.800</td>\n",
       "    </tr>\n",
       "    <tr>\n",
       "      <th>3</th>\n",
       "      <td>764c75f661154dac3a6c254cd082ea7d</td>\n",
       "      <td>NaN</td>\n",
       "      <td>NaN</td>\n",
       "      <td>foosdfpfkusacimwkcsosbicdxkicaua</td>\n",
       "      <td>544</td>\n",
       "      <td>0</td>\n",
       "      <td>0</td>\n",
       "      <td>2010-04-16</td>\n",
       "      <td>2016-04-16</td>\n",
       "      <td>NaN</td>\n",
       "      <td>...</td>\n",
       "      <td>44.311378</td>\n",
       "      <td>f</td>\n",
       "      <td>0.0</td>\n",
       "      <td>28.60</td>\n",
       "      <td>28.60</td>\n",
       "      <td>1</td>\n",
       "      <td>6.60</td>\n",
       "      <td>6</td>\n",
       "      <td>kamkkxfxxuwbdslkwifmmcsiusiuosws</td>\n",
       "      <td>13.856</td>\n",
       "    </tr>\n",
       "    <tr>\n",
       "      <th>4</th>\n",
       "      <td>bba03439a292a1e166f80264c16191cb</td>\n",
       "      <td>NaN</td>\n",
       "      <td>NaN</td>\n",
       "      <td>lmkebamcaaclubfxadlmueccxoimlema</td>\n",
       "      <td>1584</td>\n",
       "      <td>0</td>\n",
       "      <td>0</td>\n",
       "      <td>2010-03-30</td>\n",
       "      <td>2016-03-30</td>\n",
       "      <td>NaN</td>\n",
       "      <td>...</td>\n",
       "      <td>44.311378</td>\n",
       "      <td>f</td>\n",
       "      <td>0.0</td>\n",
       "      <td>30.22</td>\n",
       "      <td>30.22</td>\n",
       "      <td>1</td>\n",
       "      <td>25.46</td>\n",
       "      <td>6</td>\n",
       "      <td>kamkkxfxxuwbdslkwifmmcsiusiuosws</td>\n",
       "      <td>13.200</td>\n",
       "    </tr>\n",
       "  </tbody>\n",
       "</table>\n",
       "<p>5 rows × 32 columns</p>\n",
       "</div>"
      ],
      "text/plain": [
       "                                 id                      activity_new  \\\n",
       "0  48ada52261e7cf58715202705a0451c9  esoiiifxdlbkcsluxmfuacbdckommixw   \n",
       "1  24011ae4ebbe3035111d65fa7c15bc57                               NaN   \n",
       "2  d29c2c54acc38ff3c0614d0a653813dd                               NaN   \n",
       "3  764c75f661154dac3a6c254cd082ea7d                               NaN   \n",
       "4  bba03439a292a1e166f80264c16191cb                               NaN   \n",
       "\n",
       "   campaign_disc_ele                     channel_sales  cons_12m  \\\n",
       "0                NaN  lmkebamcaaclubfxadlmueccxoimlema    309275   \n",
       "1                NaN  foosdfpfkusacimwkcsosbicdxkicaua         0   \n",
       "2                NaN                               NaN      4660   \n",
       "3                NaN  foosdfpfkusacimwkcsosbicdxkicaua       544   \n",
       "4                NaN  lmkebamcaaclubfxadlmueccxoimlema      1584   \n",
       "\n",
       "   cons_gas_12m  cons_last_month  date_activ    date_end date_first_activ  \\\n",
       "0             0            10025  2012-11-07  2016-11-06              NaN   \n",
       "1         54946                0  2013-06-15  2016-06-15              NaN   \n",
       "2             0                0  2009-08-21  2016-08-30              NaN   \n",
       "3             0                0  2010-04-16  2016-04-16              NaN   \n",
       "4             0                0  2010-03-30  2016-03-30              NaN   \n",
       "\n",
       "   ... forecast_price_pow_p1 has_gas  imp_cons  margin_gross_pow_ele  \\\n",
       "0  ...             58.995952       f     831.8                -41.76   \n",
       "1  ...             40.606701       t       0.0                 25.44   \n",
       "2  ...             44.311378       f       0.0                 16.38   \n",
       "3  ...             44.311378       f       0.0                 28.60   \n",
       "4  ...             44.311378       f       0.0                 30.22   \n",
       "\n",
       "   margin_net_pow_ele  nb_prod_act  net_margin  num_years_antig  \\\n",
       "0              -41.76            1     1732.36                3   \n",
       "1               25.44            2      678.99                3   \n",
       "2               16.38            1       18.89                6   \n",
       "3               28.60            1        6.60                6   \n",
       "4               30.22            1       25.46                6   \n",
       "\n",
       "                          origin_up  pow_max  \n",
       "0  ldkssxwpmemidmecebumciepifcamkci  180.000  \n",
       "1  lxidpiddsbxsbosboudacockeimpuepw   43.648  \n",
       "2  kamkkxfxxuwbdslkwifmmcsiusiuosws   13.800  \n",
       "3  kamkkxfxxuwbdslkwifmmcsiusiuosws   13.856  \n",
       "4  kamkkxfxxuwbdslkwifmmcsiusiuosws   13.200  \n",
       "\n",
       "[5 rows x 32 columns]"
      ]
     },
     "execution_count": 70,
     "metadata": {},
     "output_type": "execute_result"
    }
   ],
   "source": [
    "print(data.shape)\n",
    "data.head()"
   ]
  },
  {
   "cell_type": "code",
   "execution_count": 71,
   "metadata": {},
   "outputs": [],
   "source": [
    "# merge the main dataset with churn data\n",
    "df=data.merge(output_data,\n",
    "             how = 'inner',\n",
    "             on = ['id'])"
   ]
  },
  {
   "cell_type": "code",
   "execution_count": 72,
   "metadata": {},
   "outputs": [
    {
     "name": "stdout",
     "output_type": "stream",
     "text": [
      "(16096, 33)\n"
     ]
    },
    {
     "data": {
      "text/html": [
       "<div>\n",
       "<style scoped>\n",
       "    .dataframe tbody tr th:only-of-type {\n",
       "        vertical-align: middle;\n",
       "    }\n",
       "\n",
       "    .dataframe tbody tr th {\n",
       "        vertical-align: top;\n",
       "    }\n",
       "\n",
       "    .dataframe thead th {\n",
       "        text-align: right;\n",
       "    }\n",
       "</style>\n",
       "<table border=\"1\" class=\"dataframe\">\n",
       "  <thead>\n",
       "    <tr style=\"text-align: right;\">\n",
       "      <th></th>\n",
       "      <th>id</th>\n",
       "      <th>activity_new</th>\n",
       "      <th>campaign_disc_ele</th>\n",
       "      <th>channel_sales</th>\n",
       "      <th>cons_12m</th>\n",
       "      <th>cons_gas_12m</th>\n",
       "      <th>cons_last_month</th>\n",
       "      <th>date_activ</th>\n",
       "      <th>date_end</th>\n",
       "      <th>date_first_activ</th>\n",
       "      <th>...</th>\n",
       "      <th>has_gas</th>\n",
       "      <th>imp_cons</th>\n",
       "      <th>margin_gross_pow_ele</th>\n",
       "      <th>margin_net_pow_ele</th>\n",
       "      <th>nb_prod_act</th>\n",
       "      <th>net_margin</th>\n",
       "      <th>num_years_antig</th>\n",
       "      <th>origin_up</th>\n",
       "      <th>pow_max</th>\n",
       "      <th>churn</th>\n",
       "    </tr>\n",
       "  </thead>\n",
       "  <tbody>\n",
       "    <tr>\n",
       "      <th>0</th>\n",
       "      <td>48ada52261e7cf58715202705a0451c9</td>\n",
       "      <td>esoiiifxdlbkcsluxmfuacbdckommixw</td>\n",
       "      <td>NaN</td>\n",
       "      <td>lmkebamcaaclubfxadlmueccxoimlema</td>\n",
       "      <td>309275</td>\n",
       "      <td>0</td>\n",
       "      <td>10025</td>\n",
       "      <td>2012-11-07</td>\n",
       "      <td>2016-11-06</td>\n",
       "      <td>NaN</td>\n",
       "      <td>...</td>\n",
       "      <td>f</td>\n",
       "      <td>831.8</td>\n",
       "      <td>-41.76</td>\n",
       "      <td>-41.76</td>\n",
       "      <td>1</td>\n",
       "      <td>1732.36</td>\n",
       "      <td>3</td>\n",
       "      <td>ldkssxwpmemidmecebumciepifcamkci</td>\n",
       "      <td>180.000</td>\n",
       "      <td>0</td>\n",
       "    </tr>\n",
       "    <tr>\n",
       "      <th>1</th>\n",
       "      <td>24011ae4ebbe3035111d65fa7c15bc57</td>\n",
       "      <td>NaN</td>\n",
       "      <td>NaN</td>\n",
       "      <td>foosdfpfkusacimwkcsosbicdxkicaua</td>\n",
       "      <td>0</td>\n",
       "      <td>54946</td>\n",
       "      <td>0</td>\n",
       "      <td>2013-06-15</td>\n",
       "      <td>2016-06-15</td>\n",
       "      <td>NaN</td>\n",
       "      <td>...</td>\n",
       "      <td>t</td>\n",
       "      <td>0.0</td>\n",
       "      <td>25.44</td>\n",
       "      <td>25.44</td>\n",
       "      <td>2</td>\n",
       "      <td>678.99</td>\n",
       "      <td>3</td>\n",
       "      <td>lxidpiddsbxsbosboudacockeimpuepw</td>\n",
       "      <td>43.648</td>\n",
       "      <td>1</td>\n",
       "    </tr>\n",
       "    <tr>\n",
       "      <th>2</th>\n",
       "      <td>d29c2c54acc38ff3c0614d0a653813dd</td>\n",
       "      <td>NaN</td>\n",
       "      <td>NaN</td>\n",
       "      <td>NaN</td>\n",
       "      <td>4660</td>\n",
       "      <td>0</td>\n",
       "      <td>0</td>\n",
       "      <td>2009-08-21</td>\n",
       "      <td>2016-08-30</td>\n",
       "      <td>NaN</td>\n",
       "      <td>...</td>\n",
       "      <td>f</td>\n",
       "      <td>0.0</td>\n",
       "      <td>16.38</td>\n",
       "      <td>16.38</td>\n",
       "      <td>1</td>\n",
       "      <td>18.89</td>\n",
       "      <td>6</td>\n",
       "      <td>kamkkxfxxuwbdslkwifmmcsiusiuosws</td>\n",
       "      <td>13.800</td>\n",
       "      <td>0</td>\n",
       "    </tr>\n",
       "    <tr>\n",
       "      <th>3</th>\n",
       "      <td>764c75f661154dac3a6c254cd082ea7d</td>\n",
       "      <td>NaN</td>\n",
       "      <td>NaN</td>\n",
       "      <td>foosdfpfkusacimwkcsosbicdxkicaua</td>\n",
       "      <td>544</td>\n",
       "      <td>0</td>\n",
       "      <td>0</td>\n",
       "      <td>2010-04-16</td>\n",
       "      <td>2016-04-16</td>\n",
       "      <td>NaN</td>\n",
       "      <td>...</td>\n",
       "      <td>f</td>\n",
       "      <td>0.0</td>\n",
       "      <td>28.60</td>\n",
       "      <td>28.60</td>\n",
       "      <td>1</td>\n",
       "      <td>6.60</td>\n",
       "      <td>6</td>\n",
       "      <td>kamkkxfxxuwbdslkwifmmcsiusiuosws</td>\n",
       "      <td>13.856</td>\n",
       "      <td>0</td>\n",
       "    </tr>\n",
       "    <tr>\n",
       "      <th>4</th>\n",
       "      <td>bba03439a292a1e166f80264c16191cb</td>\n",
       "      <td>NaN</td>\n",
       "      <td>NaN</td>\n",
       "      <td>lmkebamcaaclubfxadlmueccxoimlema</td>\n",
       "      <td>1584</td>\n",
       "      <td>0</td>\n",
       "      <td>0</td>\n",
       "      <td>2010-03-30</td>\n",
       "      <td>2016-03-30</td>\n",
       "      <td>NaN</td>\n",
       "      <td>...</td>\n",
       "      <td>f</td>\n",
       "      <td>0.0</td>\n",
       "      <td>30.22</td>\n",
       "      <td>30.22</td>\n",
       "      <td>1</td>\n",
       "      <td>25.46</td>\n",
       "      <td>6</td>\n",
       "      <td>kamkkxfxxuwbdslkwifmmcsiusiuosws</td>\n",
       "      <td>13.200</td>\n",
       "      <td>0</td>\n",
       "    </tr>\n",
       "  </tbody>\n",
       "</table>\n",
       "<p>5 rows × 33 columns</p>\n",
       "</div>"
      ],
      "text/plain": [
       "                                 id                      activity_new  \\\n",
       "0  48ada52261e7cf58715202705a0451c9  esoiiifxdlbkcsluxmfuacbdckommixw   \n",
       "1  24011ae4ebbe3035111d65fa7c15bc57                               NaN   \n",
       "2  d29c2c54acc38ff3c0614d0a653813dd                               NaN   \n",
       "3  764c75f661154dac3a6c254cd082ea7d                               NaN   \n",
       "4  bba03439a292a1e166f80264c16191cb                               NaN   \n",
       "\n",
       "   campaign_disc_ele                     channel_sales  cons_12m  \\\n",
       "0                NaN  lmkebamcaaclubfxadlmueccxoimlema    309275   \n",
       "1                NaN  foosdfpfkusacimwkcsosbicdxkicaua         0   \n",
       "2                NaN                               NaN      4660   \n",
       "3                NaN  foosdfpfkusacimwkcsosbicdxkicaua       544   \n",
       "4                NaN  lmkebamcaaclubfxadlmueccxoimlema      1584   \n",
       "\n",
       "   cons_gas_12m  cons_last_month  date_activ    date_end date_first_activ  \\\n",
       "0             0            10025  2012-11-07  2016-11-06              NaN   \n",
       "1         54946                0  2013-06-15  2016-06-15              NaN   \n",
       "2             0                0  2009-08-21  2016-08-30              NaN   \n",
       "3             0                0  2010-04-16  2016-04-16              NaN   \n",
       "4             0                0  2010-03-30  2016-03-30              NaN   \n",
       "\n",
       "   ... has_gas imp_cons  margin_gross_pow_ele  margin_net_pow_ele  \\\n",
       "0  ...       f    831.8                -41.76              -41.76   \n",
       "1  ...       t      0.0                 25.44               25.44   \n",
       "2  ...       f      0.0                 16.38               16.38   \n",
       "3  ...       f      0.0                 28.60               28.60   \n",
       "4  ...       f      0.0                 30.22               30.22   \n",
       "\n",
       "   nb_prod_act  net_margin  num_years_antig                         origin_up  \\\n",
       "0            1     1732.36                3  ldkssxwpmemidmecebumciepifcamkci   \n",
       "1            2      678.99                3  lxidpiddsbxsbosboudacockeimpuepw   \n",
       "2            1       18.89                6  kamkkxfxxuwbdslkwifmmcsiusiuosws   \n",
       "3            1        6.60                6  kamkkxfxxuwbdslkwifmmcsiusiuosws   \n",
       "4            1       25.46                6  kamkkxfxxuwbdslkwifmmcsiusiuosws   \n",
       "\n",
       "   pow_max  churn  \n",
       "0  180.000      0  \n",
       "1   43.648      1  \n",
       "2   13.800      0  \n",
       "3   13.856      0  \n",
       "4   13.200      0  \n",
       "\n",
       "[5 rows x 33 columns]"
      ]
     },
     "execution_count": 72,
     "metadata": {},
     "output_type": "execute_result"
    }
   ],
   "source": [
    "print(df.shape)\n",
    "df.head()"
   ]
  },
  {
   "cell_type": "markdown",
   "metadata": {},
   "source": [
    "combine table 1 and 3, we have 33 columns with 16096 data "
   ]
  },
  {
   "cell_type": "markdown",
   "metadata": {},
   "source": [
    "## 2. Data overview"
   ]
  },
  {
   "cell_type": "code",
   "execution_count": 103,
   "metadata": {},
   "outputs": [
    {
     "data": {
      "text/html": [
       "<div>\n",
       "<style scoped>\n",
       "    .dataframe tbody tr th:only-of-type {\n",
       "        vertical-align: middle;\n",
       "    }\n",
       "\n",
       "    .dataframe tbody tr th {\n",
       "        vertical-align: top;\n",
       "    }\n",
       "\n",
       "    .dataframe thead th {\n",
       "        text-align: right;\n",
       "    }\n",
       "</style>\n",
       "<table border=\"1\" class=\"dataframe\">\n",
       "  <thead>\n",
       "    <tr style=\"text-align: right;\">\n",
       "      <th></th>\n",
       "      <th>Data type</th>\n",
       "    </tr>\n",
       "  </thead>\n",
       "  <tbody>\n",
       "    <tr>\n",
       "      <th>id</th>\n",
       "      <td>object</td>\n",
       "    </tr>\n",
       "    <tr>\n",
       "      <th>activity_new</th>\n",
       "      <td>object</td>\n",
       "    </tr>\n",
       "    <tr>\n",
       "      <th>campaign_disc_ele</th>\n",
       "      <td>float64</td>\n",
       "    </tr>\n",
       "    <tr>\n",
       "      <th>channel_sales</th>\n",
       "      <td>object</td>\n",
       "    </tr>\n",
       "    <tr>\n",
       "      <th>cons_12m</th>\n",
       "      <td>int64</td>\n",
       "    </tr>\n",
       "    <tr>\n",
       "      <th>cons_gas_12m</th>\n",
       "      <td>int64</td>\n",
       "    </tr>\n",
       "    <tr>\n",
       "      <th>cons_last_month</th>\n",
       "      <td>int64</td>\n",
       "    </tr>\n",
       "    <tr>\n",
       "      <th>date_activ</th>\n",
       "      <td>object</td>\n",
       "    </tr>\n",
       "    <tr>\n",
       "      <th>date_end</th>\n",
       "      <td>object</td>\n",
       "    </tr>\n",
       "    <tr>\n",
       "      <th>date_first_activ</th>\n",
       "      <td>object</td>\n",
       "    </tr>\n",
       "    <tr>\n",
       "      <th>date_modif_prod</th>\n",
       "      <td>object</td>\n",
       "    </tr>\n",
       "    <tr>\n",
       "      <th>date_renewal</th>\n",
       "      <td>object</td>\n",
       "    </tr>\n",
       "    <tr>\n",
       "      <th>forecast_base_bill_ele</th>\n",
       "      <td>float64</td>\n",
       "    </tr>\n",
       "    <tr>\n",
       "      <th>forecast_base_bill_year</th>\n",
       "      <td>float64</td>\n",
       "    </tr>\n",
       "    <tr>\n",
       "      <th>forecast_bill_12m</th>\n",
       "      <td>float64</td>\n",
       "    </tr>\n",
       "    <tr>\n",
       "      <th>forecast_cons</th>\n",
       "      <td>float64</td>\n",
       "    </tr>\n",
       "    <tr>\n",
       "      <th>forecast_cons_12m</th>\n",
       "      <td>float64</td>\n",
       "    </tr>\n",
       "    <tr>\n",
       "      <th>forecast_cons_year</th>\n",
       "      <td>int64</td>\n",
       "    </tr>\n",
       "    <tr>\n",
       "      <th>forecast_discount_energy</th>\n",
       "      <td>float64</td>\n",
       "    </tr>\n",
       "    <tr>\n",
       "      <th>forecast_meter_rent_12m</th>\n",
       "      <td>float64</td>\n",
       "    </tr>\n",
       "    <tr>\n",
       "      <th>forecast_price_energy_p1</th>\n",
       "      <td>float64</td>\n",
       "    </tr>\n",
       "    <tr>\n",
       "      <th>forecast_price_energy_p2</th>\n",
       "      <td>float64</td>\n",
       "    </tr>\n",
       "    <tr>\n",
       "      <th>forecast_price_pow_p1</th>\n",
       "      <td>float64</td>\n",
       "    </tr>\n",
       "    <tr>\n",
       "      <th>has_gas</th>\n",
       "      <td>object</td>\n",
       "    </tr>\n",
       "    <tr>\n",
       "      <th>imp_cons</th>\n",
       "      <td>float64</td>\n",
       "    </tr>\n",
       "    <tr>\n",
       "      <th>margin_gross_pow_ele</th>\n",
       "      <td>float64</td>\n",
       "    </tr>\n",
       "    <tr>\n",
       "      <th>margin_net_pow_ele</th>\n",
       "      <td>float64</td>\n",
       "    </tr>\n",
       "    <tr>\n",
       "      <th>nb_prod_act</th>\n",
       "      <td>int64</td>\n",
       "    </tr>\n",
       "    <tr>\n",
       "      <th>net_margin</th>\n",
       "      <td>float64</td>\n",
       "    </tr>\n",
       "    <tr>\n",
       "      <th>num_years_antig</th>\n",
       "      <td>int64</td>\n",
       "    </tr>\n",
       "    <tr>\n",
       "      <th>origin_up</th>\n",
       "      <td>object</td>\n",
       "    </tr>\n",
       "    <tr>\n",
       "      <th>pow_max</th>\n",
       "      <td>float64</td>\n",
       "    </tr>\n",
       "    <tr>\n",
       "      <th>churn</th>\n",
       "      <td>int64</td>\n",
       "    </tr>\n",
       "  </tbody>\n",
       "</table>\n",
       "</div>"
      ],
      "text/plain": [
       "                         Data type\n",
       "id                          object\n",
       "activity_new                object\n",
       "campaign_disc_ele          float64\n",
       "channel_sales               object\n",
       "cons_12m                     int64\n",
       "cons_gas_12m                 int64\n",
       "cons_last_month              int64\n",
       "date_activ                  object\n",
       "date_end                    object\n",
       "date_first_activ            object\n",
       "date_modif_prod             object\n",
       "date_renewal                object\n",
       "forecast_base_bill_ele     float64\n",
       "forecast_base_bill_year    float64\n",
       "forecast_bill_12m          float64\n",
       "forecast_cons              float64\n",
       "forecast_cons_12m          float64\n",
       "forecast_cons_year           int64\n",
       "forecast_discount_energy   float64\n",
       "forecast_meter_rent_12m    float64\n",
       "forecast_price_energy_p1   float64\n",
       "forecast_price_energy_p2   float64\n",
       "forecast_price_pow_p1      float64\n",
       "has_gas                     object\n",
       "imp_cons                   float64\n",
       "margin_gross_pow_ele       float64\n",
       "margin_net_pow_ele         float64\n",
       "nb_prod_act                  int64\n",
       "net_margin                 float64\n",
       "num_years_antig              int64\n",
       "origin_up                   object\n",
       "pow_max                    float64\n",
       "churn                        int64"
      ]
     },
     "execution_count": 103,
     "metadata": {},
     "output_type": "execute_result"
    }
   ],
   "source": [
    "pd.DataFrame({\"Data type\":df.dtypes})"
   ]
  },
  {
   "cell_type": "markdown",
   "metadata": {},
   "source": [
    "It shows that the dates are not datetime type."
   ]
  },
  {
   "cell_type": "code",
   "execution_count": 104,
   "metadata": {},
   "outputs": [
    {
     "data": {
      "text/html": [
       "<div>\n",
       "<style scoped>\n",
       "    .dataframe tbody tr th:only-of-type {\n",
       "        vertical-align: middle;\n",
       "    }\n",
       "\n",
       "    .dataframe tbody tr th {\n",
       "        vertical-align: top;\n",
       "    }\n",
       "\n",
       "    .dataframe thead th {\n",
       "        text-align: right;\n",
       "    }\n",
       "</style>\n",
       "<table border=\"1\" class=\"dataframe\">\n",
       "  <thead>\n",
       "    <tr style=\"text-align: right;\">\n",
       "      <th></th>\n",
       "      <th>Data type</th>\n",
       "    </tr>\n",
       "  </thead>\n",
       "  <tbody>\n",
       "    <tr>\n",
       "      <th>id</th>\n",
       "      <td>object</td>\n",
       "    </tr>\n",
       "    <tr>\n",
       "      <th>price_date</th>\n",
       "      <td>object</td>\n",
       "    </tr>\n",
       "    <tr>\n",
       "      <th>price_p1_var</th>\n",
       "      <td>float64</td>\n",
       "    </tr>\n",
       "    <tr>\n",
       "      <th>price_p2_var</th>\n",
       "      <td>float64</td>\n",
       "    </tr>\n",
       "    <tr>\n",
       "      <th>price_p3_var</th>\n",
       "      <td>float64</td>\n",
       "    </tr>\n",
       "    <tr>\n",
       "      <th>price_p1_fix</th>\n",
       "      <td>float64</td>\n",
       "    </tr>\n",
       "    <tr>\n",
       "      <th>price_p2_fix</th>\n",
       "      <td>float64</td>\n",
       "    </tr>\n",
       "    <tr>\n",
       "      <th>price_p3_fix</th>\n",
       "      <td>float64</td>\n",
       "    </tr>\n",
       "  </tbody>\n",
       "</table>\n",
       "</div>"
      ],
      "text/plain": [
       "             Data type\n",
       "id              object\n",
       "price_date      object\n",
       "price_p1_var   float64\n",
       "price_p2_var   float64\n",
       "price_p3_var   float64\n",
       "price_p1_fix   float64\n",
       "price_p2_fix   float64\n",
       "price_p3_fix   float64"
      ]
     },
     "execution_count": 104,
     "metadata": {},
     "output_type": "execute_result"
    }
   ],
   "source": [
    "pd.DataFrame({\"Data type\":hist_data.dtypes})"
   ]
  },
  {
   "cell_type": "code",
   "execution_count": 105,
   "metadata": {},
   "outputs": [
    {
     "data": {
      "text/html": [
       "<div>\n",
       "<style scoped>\n",
       "    .dataframe tbody tr th:only-of-type {\n",
       "        vertical-align: middle;\n",
       "    }\n",
       "\n",
       "    .dataframe tbody tr th {\n",
       "        vertical-align: top;\n",
       "    }\n",
       "\n",
       "    .dataframe thead th {\n",
       "        text-align: right;\n",
       "    }\n",
       "</style>\n",
       "<table border=\"1\" class=\"dataframe\">\n",
       "  <thead>\n",
       "    <tr style=\"text-align: right;\">\n",
       "      <th></th>\n",
       "      <th>campaign_disc_ele</th>\n",
       "      <th>cons_12m</th>\n",
       "      <th>cons_gas_12m</th>\n",
       "      <th>cons_last_month</th>\n",
       "      <th>forecast_base_bill_ele</th>\n",
       "      <th>forecast_base_bill_year</th>\n",
       "      <th>forecast_bill_12m</th>\n",
       "      <th>forecast_cons</th>\n",
       "      <th>forecast_cons_12m</th>\n",
       "      <th>forecast_cons_year</th>\n",
       "      <th>...</th>\n",
       "      <th>forecast_price_energy_p2</th>\n",
       "      <th>forecast_price_pow_p1</th>\n",
       "      <th>imp_cons</th>\n",
       "      <th>margin_gross_pow_ele</th>\n",
       "      <th>margin_net_pow_ele</th>\n",
       "      <th>nb_prod_act</th>\n",
       "      <th>net_margin</th>\n",
       "      <th>num_years_antig</th>\n",
       "      <th>pow_max</th>\n",
       "      <th>churn</th>\n",
       "    </tr>\n",
       "  </thead>\n",
       "  <tbody>\n",
       "    <tr>\n",
       "      <th>count</th>\n",
       "      <td>0.0</td>\n",
       "      <td>1.609600e+04</td>\n",
       "      <td>1.609600e+04</td>\n",
       "      <td>1.609600e+04</td>\n",
       "      <td>3508.000000</td>\n",
       "      <td>3508.000000</td>\n",
       "      <td>3508.000000</td>\n",
       "      <td>3508.000000</td>\n",
       "      <td>16096.000000</td>\n",
       "      <td>16096.000000</td>\n",
       "      <td>...</td>\n",
       "      <td>15970.000000</td>\n",
       "      <td>15970.000000</td>\n",
       "      <td>16096.000000</td>\n",
       "      <td>16083.000000</td>\n",
       "      <td>16083.000000</td>\n",
       "      <td>16096.000000</td>\n",
       "      <td>16081.000000</td>\n",
       "      <td>16096.000000</td>\n",
       "      <td>16093.000000</td>\n",
       "      <td>16096.000000</td>\n",
       "    </tr>\n",
       "    <tr>\n",
       "      <th>mean</th>\n",
       "      <td>NaN</td>\n",
       "      <td>1.948044e+05</td>\n",
       "      <td>3.191164e+04</td>\n",
       "      <td>1.946154e+04</td>\n",
       "      <td>335.843857</td>\n",
       "      <td>335.843857</td>\n",
       "      <td>3837.441866</td>\n",
       "      <td>206.845165</td>\n",
       "      <td>2370.555949</td>\n",
       "      <td>1907.347229</td>\n",
       "      <td>...</td>\n",
       "      <td>0.052951</td>\n",
       "      <td>43.533496</td>\n",
       "      <td>196.123447</td>\n",
       "      <td>22.462276</td>\n",
       "      <td>21.460318</td>\n",
       "      <td>1.347788</td>\n",
       "      <td>217.987028</td>\n",
       "      <td>5.030629</td>\n",
       "      <td>20.604131</td>\n",
       "      <td>0.099093</td>\n",
       "    </tr>\n",
       "    <tr>\n",
       "      <th>std</th>\n",
       "      <td>NaN</td>\n",
       "      <td>6.795151e+05</td>\n",
       "      <td>1.775885e+05</td>\n",
       "      <td>8.235676e+04</td>\n",
       "      <td>649.406000</td>\n",
       "      <td>649.406000</td>\n",
       "      <td>5425.744327</td>\n",
       "      <td>455.634288</td>\n",
       "      <td>4035.085664</td>\n",
       "      <td>5257.364759</td>\n",
       "      <td>...</td>\n",
       "      <td>0.048617</td>\n",
       "      <td>5.212252</td>\n",
       "      <td>494.366979</td>\n",
       "      <td>23.700883</td>\n",
       "      <td>27.917349</td>\n",
       "      <td>1.459808</td>\n",
       "      <td>366.742030</td>\n",
       "      <td>1.676101</td>\n",
       "      <td>21.772421</td>\n",
       "      <td>0.298796</td>\n",
       "    </tr>\n",
       "    <tr>\n",
       "      <th>min</th>\n",
       "      <td>NaN</td>\n",
       "      <td>-1.252760e+05</td>\n",
       "      <td>-3.037000e+03</td>\n",
       "      <td>-9.138600e+04</td>\n",
       "      <td>-364.940000</td>\n",
       "      <td>-364.940000</td>\n",
       "      <td>-2503.480000</td>\n",
       "      <td>0.000000</td>\n",
       "      <td>-16689.260000</td>\n",
       "      <td>-85627.000000</td>\n",
       "      <td>...</td>\n",
       "      <td>0.000000</td>\n",
       "      <td>-0.122184</td>\n",
       "      <td>-9038.210000</td>\n",
       "      <td>-525.540000</td>\n",
       "      <td>-615.660000</td>\n",
       "      <td>1.000000</td>\n",
       "      <td>-4148.990000</td>\n",
       "      <td>1.000000</td>\n",
       "      <td>1.000000</td>\n",
       "      <td>0.000000</td>\n",
       "    </tr>\n",
       "    <tr>\n",
       "      <th>25%</th>\n",
       "      <td>NaN</td>\n",
       "      <td>5.906250e+03</td>\n",
       "      <td>0.000000e+00</td>\n",
       "      <td>0.000000e+00</td>\n",
       "      <td>0.000000</td>\n",
       "      <td>0.000000</td>\n",
       "      <td>1158.175000</td>\n",
       "      <td>0.000000</td>\n",
       "      <td>513.230000</td>\n",
       "      <td>0.000000</td>\n",
       "      <td>...</td>\n",
       "      <td>0.000000</td>\n",
       "      <td>40.606701</td>\n",
       "      <td>0.000000</td>\n",
       "      <td>11.960000</td>\n",
       "      <td>11.950000</td>\n",
       "      <td>1.000000</td>\n",
       "      <td>51.970000</td>\n",
       "      <td>4.000000</td>\n",
       "      <td>12.500000</td>\n",
       "      <td>0.000000</td>\n",
       "    </tr>\n",
       "    <tr>\n",
       "      <th>50%</th>\n",
       "      <td>NaN</td>\n",
       "      <td>1.533250e+04</td>\n",
       "      <td>0.000000e+00</td>\n",
       "      <td>9.010000e+02</td>\n",
       "      <td>162.955000</td>\n",
       "      <td>162.955000</td>\n",
       "      <td>2187.230000</td>\n",
       "      <td>42.215000</td>\n",
       "      <td>1179.160000</td>\n",
       "      <td>378.000000</td>\n",
       "      <td>...</td>\n",
       "      <td>0.086163</td>\n",
       "      <td>44.311378</td>\n",
       "      <td>44.465000</td>\n",
       "      <td>21.090000</td>\n",
       "      <td>20.970000</td>\n",
       "      <td>1.000000</td>\n",
       "      <td>119.680000</td>\n",
       "      <td>5.000000</td>\n",
       "      <td>13.856000</td>\n",
       "      <td>0.000000</td>\n",
       "    </tr>\n",
       "    <tr>\n",
       "      <th>75%</th>\n",
       "      <td>NaN</td>\n",
       "      <td>5.022150e+04</td>\n",
       "      <td>0.000000e+00</td>\n",
       "      <td>4.127000e+03</td>\n",
       "      <td>396.185000</td>\n",
       "      <td>396.185000</td>\n",
       "      <td>4246.555000</td>\n",
       "      <td>228.117500</td>\n",
       "      <td>2692.077500</td>\n",
       "      <td>1994.250000</td>\n",
       "      <td>...</td>\n",
       "      <td>0.098837</td>\n",
       "      <td>44.311378</td>\n",
       "      <td>218.090000</td>\n",
       "      <td>29.640000</td>\n",
       "      <td>29.640000</td>\n",
       "      <td>1.000000</td>\n",
       "      <td>275.810000</td>\n",
       "      <td>6.000000</td>\n",
       "      <td>19.800000</td>\n",
       "      <td>0.000000</td>\n",
       "    </tr>\n",
       "    <tr>\n",
       "      <th>max</th>\n",
       "      <td>NaN</td>\n",
       "      <td>1.609711e+07</td>\n",
       "      <td>4.188440e+06</td>\n",
       "      <td>4.538720e+06</td>\n",
       "      <td>12566.080000</td>\n",
       "      <td>12566.080000</td>\n",
       "      <td>81122.630000</td>\n",
       "      <td>9682.890000</td>\n",
       "      <td>103801.930000</td>\n",
       "      <td>175375.000000</td>\n",
       "      <td>...</td>\n",
       "      <td>0.195975</td>\n",
       "      <td>59.444710</td>\n",
       "      <td>15042.790000</td>\n",
       "      <td>374.640000</td>\n",
       "      <td>374.640000</td>\n",
       "      <td>32.000000</td>\n",
       "      <td>24570.650000</td>\n",
       "      <td>16.000000</td>\n",
       "      <td>500.000000</td>\n",
       "      <td>1.000000</td>\n",
       "    </tr>\n",
       "  </tbody>\n",
       "</table>\n",
       "<p>8 rows × 23 columns</p>\n",
       "</div>"
      ],
      "text/plain": [
       "       campaign_disc_ele      cons_12m  cons_gas_12m  cons_last_month  \\\n",
       "count                0.0  1.609600e+04  1.609600e+04     1.609600e+04   \n",
       "mean                 NaN  1.948044e+05  3.191164e+04     1.946154e+04   \n",
       "std                  NaN  6.795151e+05  1.775885e+05     8.235676e+04   \n",
       "min                  NaN -1.252760e+05 -3.037000e+03    -9.138600e+04   \n",
       "25%                  NaN  5.906250e+03  0.000000e+00     0.000000e+00   \n",
       "50%                  NaN  1.533250e+04  0.000000e+00     9.010000e+02   \n",
       "75%                  NaN  5.022150e+04  0.000000e+00     4.127000e+03   \n",
       "max                  NaN  1.609711e+07  4.188440e+06     4.538720e+06   \n",
       "\n",
       "       forecast_base_bill_ele  forecast_base_bill_year  forecast_bill_12m  \\\n",
       "count             3508.000000              3508.000000        3508.000000   \n",
       "mean               335.843857               335.843857        3837.441866   \n",
       "std                649.406000               649.406000        5425.744327   \n",
       "min               -364.940000              -364.940000       -2503.480000   \n",
       "25%                  0.000000                 0.000000        1158.175000   \n",
       "50%                162.955000               162.955000        2187.230000   \n",
       "75%                396.185000               396.185000        4246.555000   \n",
       "max              12566.080000             12566.080000       81122.630000   \n",
       "\n",
       "       forecast_cons  forecast_cons_12m  forecast_cons_year  ...  \\\n",
       "count    3508.000000       16096.000000        16096.000000  ...   \n",
       "mean      206.845165        2370.555949         1907.347229  ...   \n",
       "std       455.634288        4035.085664         5257.364759  ...   \n",
       "min         0.000000      -16689.260000       -85627.000000  ...   \n",
       "25%         0.000000         513.230000            0.000000  ...   \n",
       "50%        42.215000        1179.160000          378.000000  ...   \n",
       "75%       228.117500        2692.077500         1994.250000  ...   \n",
       "max      9682.890000      103801.930000       175375.000000  ...   \n",
       "\n",
       "       forecast_price_energy_p2  forecast_price_pow_p1      imp_cons  \\\n",
       "count              15970.000000           15970.000000  16096.000000   \n",
       "mean                   0.052951              43.533496    196.123447   \n",
       "std                    0.048617               5.212252    494.366979   \n",
       "min                    0.000000              -0.122184  -9038.210000   \n",
       "25%                    0.000000              40.606701      0.000000   \n",
       "50%                    0.086163              44.311378     44.465000   \n",
       "75%                    0.098837              44.311378    218.090000   \n",
       "max                    0.195975              59.444710  15042.790000   \n",
       "\n",
       "       margin_gross_pow_ele  margin_net_pow_ele   nb_prod_act    net_margin  \\\n",
       "count          16083.000000        16083.000000  16096.000000  16081.000000   \n",
       "mean              22.462276           21.460318      1.347788    217.987028   \n",
       "std               23.700883           27.917349      1.459808    366.742030   \n",
       "min             -525.540000         -615.660000      1.000000  -4148.990000   \n",
       "25%               11.960000           11.950000      1.000000     51.970000   \n",
       "50%               21.090000           20.970000      1.000000    119.680000   \n",
       "75%               29.640000           29.640000      1.000000    275.810000   \n",
       "max              374.640000          374.640000     32.000000  24570.650000   \n",
       "\n",
       "       num_years_antig       pow_max         churn  \n",
       "count     16096.000000  16093.000000  16096.000000  \n",
       "mean          5.030629     20.604131      0.099093  \n",
       "std           1.676101     21.772421      0.298796  \n",
       "min           1.000000      1.000000      0.000000  \n",
       "25%           4.000000     12.500000      0.000000  \n",
       "50%           5.000000     13.856000      0.000000  \n",
       "75%           6.000000     19.800000      0.000000  \n",
       "max          16.000000    500.000000      1.000000  \n",
       "\n",
       "[8 rows x 23 columns]"
      ]
     },
     "execution_count": 105,
     "metadata": {},
     "output_type": "execute_result"
    }
   ],
   "source": [
    "df.describe()"
   ]
  },
  {
   "cell_type": "markdown",
   "metadata": {},
   "source": [
    "The summary shows that:\n",
    "\n",
    "1. There are negative values in consumption and forecasts variables.\n",
    "Note(from sample answer): This could mean that the client companies are producing energy and therefore energy should be \"returned\", although it is unlikely and we will consider itas corrupted data.\n",
    "\n",
    "2. campaign_disc_ele has no value.\n",
    "\n",
    "3. Data are skewed."
   ]
  },
  {
   "cell_type": "code",
   "execution_count": 106,
   "metadata": {},
   "outputs": [
    {
     "data": {
      "text/html": [
       "<div>\n",
       "<style scoped>\n",
       "    .dataframe tbody tr th:only-of-type {\n",
       "        vertical-align: middle;\n",
       "    }\n",
       "\n",
       "    .dataframe tbody tr th {\n",
       "        vertical-align: top;\n",
       "    }\n",
       "\n",
       "    .dataframe thead th {\n",
       "        text-align: right;\n",
       "    }\n",
       "</style>\n",
       "<table border=\"1\" class=\"dataframe\">\n",
       "  <thead>\n",
       "    <tr style=\"text-align: right;\">\n",
       "      <th></th>\n",
       "      <th>price_p1_var</th>\n",
       "      <th>price_p2_var</th>\n",
       "      <th>price_p3_var</th>\n",
       "      <th>price_p1_fix</th>\n",
       "      <th>price_p2_fix</th>\n",
       "      <th>price_p3_fix</th>\n",
       "    </tr>\n",
       "  </thead>\n",
       "  <tbody>\n",
       "    <tr>\n",
       "      <th>count</th>\n",
       "      <td>191643.000000</td>\n",
       "      <td>191643.000000</td>\n",
       "      <td>191643.000000</td>\n",
       "      <td>191643.000000</td>\n",
       "      <td>191643.000000</td>\n",
       "      <td>191643.000000</td>\n",
       "    </tr>\n",
       "    <tr>\n",
       "      <th>mean</th>\n",
       "      <td>0.140991</td>\n",
       "      <td>0.054412</td>\n",
       "      <td>0.030712</td>\n",
       "      <td>43.325546</td>\n",
       "      <td>10.698201</td>\n",
       "      <td>6.455436</td>\n",
       "    </tr>\n",
       "    <tr>\n",
       "      <th>std</th>\n",
       "      <td>0.025117</td>\n",
       "      <td>0.050033</td>\n",
       "      <td>0.036335</td>\n",
       "      <td>5.437952</td>\n",
       "      <td>12.856046</td>\n",
       "      <td>7.782279</td>\n",
       "    </tr>\n",
       "    <tr>\n",
       "      <th>min</th>\n",
       "      <td>0.000000</td>\n",
       "      <td>0.000000</td>\n",
       "      <td>0.000000</td>\n",
       "      <td>-0.177779</td>\n",
       "      <td>-0.097752</td>\n",
       "      <td>-0.065172</td>\n",
       "    </tr>\n",
       "    <tr>\n",
       "      <th>25%</th>\n",
       "      <td>0.125976</td>\n",
       "      <td>0.000000</td>\n",
       "      <td>0.000000</td>\n",
       "      <td>40.728885</td>\n",
       "      <td>0.000000</td>\n",
       "      <td>0.000000</td>\n",
       "    </tr>\n",
       "    <tr>\n",
       "      <th>50%</th>\n",
       "      <td>0.146033</td>\n",
       "      <td>0.085483</td>\n",
       "      <td>0.000000</td>\n",
       "      <td>44.266930</td>\n",
       "      <td>0.000000</td>\n",
       "      <td>0.000000</td>\n",
       "    </tr>\n",
       "    <tr>\n",
       "      <th>75%</th>\n",
       "      <td>0.151635</td>\n",
       "      <td>0.101780</td>\n",
       "      <td>0.072558</td>\n",
       "      <td>44.444710</td>\n",
       "      <td>24.339581</td>\n",
       "      <td>16.226389</td>\n",
       "    </tr>\n",
       "    <tr>\n",
       "      <th>max</th>\n",
       "      <td>0.280700</td>\n",
       "      <td>0.229788</td>\n",
       "      <td>0.114102</td>\n",
       "      <td>59.444710</td>\n",
       "      <td>36.490692</td>\n",
       "      <td>17.458221</td>\n",
       "    </tr>\n",
       "  </tbody>\n",
       "</table>\n",
       "</div>"
      ],
      "text/plain": [
       "        price_p1_var   price_p2_var   price_p3_var   price_p1_fix  \\\n",
       "count  191643.000000  191643.000000  191643.000000  191643.000000   \n",
       "mean        0.140991       0.054412       0.030712      43.325546   \n",
       "std         0.025117       0.050033       0.036335       5.437952   \n",
       "min         0.000000       0.000000       0.000000      -0.177779   \n",
       "25%         0.125976       0.000000       0.000000      40.728885   \n",
       "50%         0.146033       0.085483       0.000000      44.266930   \n",
       "75%         0.151635       0.101780       0.072558      44.444710   \n",
       "max         0.280700       0.229788       0.114102      59.444710   \n",
       "\n",
       "        price_p2_fix   price_p3_fix  \n",
       "count  191643.000000  191643.000000  \n",
       "mean       10.698201       6.455436  \n",
       "std        12.856046       7.782279  \n",
       "min        -0.097752      -0.065172  \n",
       "25%         0.000000       0.000000  \n",
       "50%         0.000000       0.000000  \n",
       "75%        24.339581      16.226389  \n",
       "max        36.490692      17.458221  "
      ]
     },
     "execution_count": 106,
     "metadata": {},
     "output_type": "execute_result"
    }
   ],
   "source": [
    "hist_data.describe()"
   ]
  },
  {
   "cell_type": "markdown",
   "metadata": {},
   "source": [
    "The summary for historical data shows some negative value for price, which is not reasonable."
   ]
  },
  {
   "cell_type": "markdown",
   "metadata": {},
   "source": [
    "### Missing data"
   ]
  },
  {
   "cell_type": "code",
   "execution_count": 73,
   "metadata": {},
   "outputs": [
    {
     "data": {
      "text/plain": [
       "<matplotlib.axes._subplots.AxesSubplot at 0x26fb2e5ba20>"
      ]
     },
     "execution_count": 73,
     "metadata": {},
     "output_type": "execute_result"
    },
    {
     "data": {
      "image/png": "[encoded data removed]",
      "text/plain": [
       "<Figure size 432x288 with 2 Axes>"
      ]
     },
     "metadata": {
      "needs_background": "light"
     },
     "output_type": "display_data"
    }
   ],
   "source": [
    "cols = data.columns   # missing data visualisation\n",
    "colours = ['#000099', '#ffff00'] # specify the colours - yellow is missing. blue is not missing.\n",
    "sns.heatmap(df[cols].isnull(), cmap=sns.color_palette(colours))"
   ]
  },
  {
   "cell_type": "code",
   "execution_count": 107,
   "metadata": {},
   "outputs": [
    {
     "data": {
      "text/html": [
       "<div>\n",
       "<style scoped>\n",
       "    .dataframe tbody tr th:only-of-type {\n",
       "        vertical-align: middle;\n",
       "    }\n",
       "\n",
       "    .dataframe tbody tr th {\n",
       "        vertical-align: top;\n",
       "    }\n",
       "\n",
       "    .dataframe thead th {\n",
       "        text-align: right;\n",
       "    }\n",
       "</style>\n",
       "<table border=\"1\" class=\"dataframe\">\n",
       "  <thead>\n",
       "    <tr style=\"text-align: right;\">\n",
       "      <th></th>\n",
       "      <th>Missing values (%)</th>\n",
       "    </tr>\n",
       "  </thead>\n",
       "  <tbody>\n",
       "    <tr>\n",
       "      <th>id</th>\n",
       "      <td>0.000000</td>\n",
       "    </tr>\n",
       "    <tr>\n",
       "      <th>activity_new</th>\n",
       "      <td>59.300447</td>\n",
       "    </tr>\n",
       "    <tr>\n",
       "      <th>campaign_disc_ele</th>\n",
       "      <td>100.000000</td>\n",
       "    </tr>\n",
       "    <tr>\n",
       "      <th>channel_sales</th>\n",
       "      <td>26.205268</td>\n",
       "    </tr>\n",
       "    <tr>\n",
       "      <th>cons_12m</th>\n",
       "      <td>0.000000</td>\n",
       "    </tr>\n",
       "    <tr>\n",
       "      <th>cons_gas_12m</th>\n",
       "      <td>0.000000</td>\n",
       "    </tr>\n",
       "    <tr>\n",
       "      <th>cons_last_month</th>\n",
       "      <td>0.000000</td>\n",
       "    </tr>\n",
       "    <tr>\n",
       "      <th>date_activ</th>\n",
       "      <td>0.000000</td>\n",
       "    </tr>\n",
       "    <tr>\n",
       "      <th>date_end</th>\n",
       "      <td>0.012425</td>\n",
       "    </tr>\n",
       "    <tr>\n",
       "      <th>date_first_activ</th>\n",
       "      <td>78.205765</td>\n",
       "    </tr>\n",
       "    <tr>\n",
       "      <th>date_modif_prod</th>\n",
       "      <td>0.975398</td>\n",
       "    </tr>\n",
       "    <tr>\n",
       "      <th>date_renewal</th>\n",
       "      <td>0.248509</td>\n",
       "    </tr>\n",
       "    <tr>\n",
       "      <th>forecast_base_bill_ele</th>\n",
       "      <td>78.205765</td>\n",
       "    </tr>\n",
       "    <tr>\n",
       "      <th>forecast_base_bill_year</th>\n",
       "      <td>78.205765</td>\n",
       "    </tr>\n",
       "    <tr>\n",
       "      <th>forecast_bill_12m</th>\n",
       "      <td>78.205765</td>\n",
       "    </tr>\n",
       "    <tr>\n",
       "      <th>forecast_cons</th>\n",
       "      <td>78.205765</td>\n",
       "    </tr>\n",
       "    <tr>\n",
       "      <th>forecast_cons_12m</th>\n",
       "      <td>0.000000</td>\n",
       "    </tr>\n",
       "    <tr>\n",
       "      <th>forecast_cons_year</th>\n",
       "      <td>0.000000</td>\n",
       "    </tr>\n",
       "    <tr>\n",
       "      <th>forecast_discount_energy</th>\n",
       "      <td>0.782803</td>\n",
       "    </tr>\n",
       "    <tr>\n",
       "      <th>forecast_meter_rent_12m</th>\n",
       "      <td>0.000000</td>\n",
       "    </tr>\n",
       "    <tr>\n",
       "      <th>forecast_price_energy_p1</th>\n",
       "      <td>0.782803</td>\n",
       "    </tr>\n",
       "    <tr>\n",
       "      <th>forecast_price_energy_p2</th>\n",
       "      <td>0.782803</td>\n",
       "    </tr>\n",
       "    <tr>\n",
       "      <th>forecast_price_pow_p1</th>\n",
       "      <td>0.782803</td>\n",
       "    </tr>\n",
       "    <tr>\n",
       "      <th>has_gas</th>\n",
       "      <td>0.000000</td>\n",
       "    </tr>\n",
       "    <tr>\n",
       "      <th>imp_cons</th>\n",
       "      <td>0.000000</td>\n",
       "    </tr>\n",
       "    <tr>\n",
       "      <th>margin_gross_pow_ele</th>\n",
       "      <td>0.080765</td>\n",
       "    </tr>\n",
       "    <tr>\n",
       "      <th>margin_net_pow_ele</th>\n",
       "      <td>0.080765</td>\n",
       "    </tr>\n",
       "    <tr>\n",
       "      <th>nb_prod_act</th>\n",
       "      <td>0.000000</td>\n",
       "    </tr>\n",
       "    <tr>\n",
       "      <th>net_margin</th>\n",
       "      <td>0.093191</td>\n",
       "    </tr>\n",
       "    <tr>\n",
       "      <th>num_years_antig</th>\n",
       "      <td>0.000000</td>\n",
       "    </tr>\n",
       "    <tr>\n",
       "      <th>origin_up</th>\n",
       "      <td>0.540507</td>\n",
       "    </tr>\n",
       "    <tr>\n",
       "      <th>pow_max</th>\n",
       "      <td>0.018638</td>\n",
       "    </tr>\n",
       "    <tr>\n",
       "      <th>churn</th>\n",
       "      <td>0.000000</td>\n",
       "    </tr>\n",
       "  </tbody>\n",
       "</table>\n",
       "</div>"
      ],
      "text/plain": [
       "                          Missing values (%)\n",
       "id                                  0.000000\n",
       "activity_new                       59.300447\n",
       "campaign_disc_ele                 100.000000\n",
       "channel_sales                      26.205268\n",
       "cons_12m                            0.000000\n",
       "cons_gas_12m                        0.000000\n",
       "cons_last_month                     0.000000\n",
       "date_activ                          0.000000\n",
       "date_end                            0.012425\n",
       "date_first_activ                   78.205765\n",
       "date_modif_prod                     0.975398\n",
       "date_renewal                        0.248509\n",
       "forecast_base_bill_ele             78.205765\n",
       "forecast_base_bill_year            78.205765\n",
       "forecast_bill_12m                  78.205765\n",
       "forecast_cons                      78.205765\n",
       "forecast_cons_12m                   0.000000\n",
       "forecast_cons_year                  0.000000\n",
       "forecast_discount_energy            0.782803\n",
       "forecast_meter_rent_12m             0.000000\n",
       "forecast_price_energy_p1            0.782803\n",
       "forecast_price_energy_p2            0.782803\n",
       "forecast_price_pow_p1               0.782803\n",
       "has_gas                             0.000000\n",
       "imp_cons                            0.000000\n",
       "margin_gross_pow_ele                0.080765\n",
       "margin_net_pow_ele                  0.080765\n",
       "nb_prod_act                         0.000000\n",
       "net_margin                          0.093191\n",
       "num_years_antig                     0.000000\n",
       "origin_up                           0.540507\n",
       "pow_max                             0.018638\n",
       "churn                               0.000000"
      ]
     },
     "execution_count": 107,
     "metadata": {},
     "output_type": "execute_result"
    }
   ],
   "source": [
    "pd.DataFrame({\"Missing values (%)\": df.isnull().sum()/len(df.index)*100})"
   ]
  },
  {
   "cell_type": "code",
   "execution_count": 108,
   "metadata": {},
   "outputs": [
    {
     "data": {
      "text/html": [
       "<div>\n",
       "<style scoped>\n",
       "    .dataframe tbody tr th:only-of-type {\n",
       "        vertical-align: middle;\n",
       "    }\n",
       "\n",
       "    .dataframe tbody tr th {\n",
       "        vertical-align: top;\n",
       "    }\n",
       "\n",
       "    .dataframe thead th {\n",
       "        text-align: right;\n",
       "    }\n",
       "</style>\n",
       "<table border=\"1\" class=\"dataframe\">\n",
       "  <thead>\n",
       "    <tr style=\"text-align: right;\">\n",
       "      <th></th>\n",
       "      <th>Missing values (%)</th>\n",
       "    </tr>\n",
       "  </thead>\n",
       "  <tbody>\n",
       "    <tr>\n",
       "      <th>id</th>\n",
       "      <td>0.000000</td>\n",
       "    </tr>\n",
       "    <tr>\n",
       "      <th>price_date</th>\n",
       "      <td>0.000000</td>\n",
       "    </tr>\n",
       "    <tr>\n",
       "      <th>price_p1_var</th>\n",
       "      <td>0.704138</td>\n",
       "    </tr>\n",
       "    <tr>\n",
       "      <th>price_p2_var</th>\n",
       "      <td>0.704138</td>\n",
       "    </tr>\n",
       "    <tr>\n",
       "      <th>price_p3_var</th>\n",
       "      <td>0.704138</td>\n",
       "    </tr>\n",
       "    <tr>\n",
       "      <th>price_p1_fix</th>\n",
       "      <td>0.704138</td>\n",
       "    </tr>\n",
       "    <tr>\n",
       "      <th>price_p2_fix</th>\n",
       "      <td>0.704138</td>\n",
       "    </tr>\n",
       "    <tr>\n",
       "      <th>price_p3_fix</th>\n",
       "      <td>0.704138</td>\n",
       "    </tr>\n",
       "  </tbody>\n",
       "</table>\n",
       "</div>"
      ],
      "text/plain": [
       "              Missing values (%)\n",
       "id                      0.000000\n",
       "price_date              0.000000\n",
       "price_p1_var            0.704138\n",
       "price_p2_var            0.704138\n",
       "price_p3_var            0.704138\n",
       "price_p1_fix            0.704138\n",
       "price_p2_fix            0.704138\n",
       "price_p3_fix            0.704138"
      ]
     },
     "execution_count": 108,
     "metadata": {},
     "output_type": "execute_result"
    }
   ],
   "source": [
    "pd.DataFrame({\"Missing values (%)\": hist_data.isnull().sum()/len(hist_data.index)*100})"
   ]
  },
  {
   "cell_type": "markdown",
   "metadata": {},
   "source": []
  },
  {
   "cell_type": "markdown",
   "metadata": {},
   "source": []
  },
  {
   "cell_type": "markdown",
   "metadata": {},
   "source": [
    "## 3. Data cleaning"
   ]
  },
  {
   "cell_type": "markdown",
   "metadata": {},
   "source": [
    "### Missing value"
   ]
  },
  {
   "cell_type": "code",
   "execution_count": 120,
   "metadata": {},
   "outputs": [],
   "source": [
    "\n",
    "# drop variables with NAN more than 50% and variables with weird information\n",
    "cols_to_drop = ['campaign_disc_ele', 'date_first_activ',\n",
    "                'forecast_base_bill_ele', 'forecast_base_bill_year', \n",
    "                'forecast_bill_12m', 'forecast_cons']\n",
    "data_1=df.drop(cols_to_drop, axis=1)\n"
   ]
  },
  {
   "cell_type": "markdown",
   "metadata": {},
   "source": [
    "### Check duplicates"
   ]
  },
  {
   "cell_type": "code",
   "execution_count": 122,
   "metadata": {},
   "outputs": [
    {
     "data": {
      "text/html": [
       "<div>\n",
       "<style scoped>\n",
       "    .dataframe tbody tr th:only-of-type {\n",
       "        vertical-align: middle;\n",
       "    }\n",
       "\n",
       "    .dataframe tbody tr th {\n",
       "        vertical-align: top;\n",
       "    }\n",
       "\n",
       "    .dataframe thead th {\n",
       "        text-align: right;\n",
       "    }\n",
       "</style>\n",
       "<table border=\"1\" class=\"dataframe\">\n",
       "  <thead>\n",
       "    <tr style=\"text-align: right;\">\n",
       "      <th></th>\n",
       "      <th>id</th>\n",
       "      <th>activity_new</th>\n",
       "      <th>channel_sales</th>\n",
       "      <th>cons_12m</th>\n",
       "      <th>cons_gas_12m</th>\n",
       "      <th>cons_last_month</th>\n",
       "      <th>date_activ</th>\n",
       "      <th>date_end</th>\n",
       "      <th>date_modif_prod</th>\n",
       "      <th>date_renewal</th>\n",
       "      <th>...</th>\n",
       "      <th>has_gas</th>\n",
       "      <th>imp_cons</th>\n",
       "      <th>margin_gross_pow_ele</th>\n",
       "      <th>margin_net_pow_ele</th>\n",
       "      <th>nb_prod_act</th>\n",
       "      <th>net_margin</th>\n",
       "      <th>num_years_antig</th>\n",
       "      <th>origin_up</th>\n",
       "      <th>pow_max</th>\n",
       "      <th>churn</th>\n",
       "    </tr>\n",
       "  </thead>\n",
       "  <tbody>\n",
       "  </tbody>\n",
       "</table>\n",
       "<p>0 rows × 27 columns</p>\n",
       "</div>"
      ],
      "text/plain": [
       "Empty DataFrame\n",
       "Columns: [id, activity_new, channel_sales, cons_12m, cons_gas_12m, cons_last_month, date_activ, date_end, date_modif_prod, date_renewal, forecast_cons_12m, forecast_cons_year, forecast_discount_energy, forecast_meter_rent_12m, forecast_price_energy_p1, forecast_price_energy_p2, forecast_price_pow_p1, has_gas, imp_cons, margin_gross_pow_ele, margin_net_pow_ele, nb_prod_act, net_margin, num_years_antig, origin_up, pow_max, churn]\n",
       "Index: []\n",
       "\n",
       "[0 rows x 27 columns]"
      ]
     },
     "execution_count": 122,
     "metadata": {},
     "output_type": "execute_result"
    }
   ],
   "source": [
    "data_1[data_1.duplicated()]"
   ]
  },
  {
   "cell_type": "markdown",
   "metadata": {},
   "source": [
    "### Formatting data"
   ]
  },
  {
   "cell_type": "markdown",
   "metadata": {},
   "source": [
    "### Missing dates"
   ]
  },
  {
   "cell_type": "markdown",
   "metadata": {},
   "source": [
    "Ways to handle missing dates\n",
    "\n",
    "1. Engineer the dates from known values. For example, the date_renewal is usually the same date as the date_modif_prodbut one year ahead.\n",
    "\n",
    "2. Replace missing values with the meadian (most frequent date).\n",
    "\n",
    "For numerical values, the built-in function .median() can be used, but this will not work for dates or strings, so we will use a workaround using .valuecounts()"
   ]
  },
  {
   "cell_type": "code",
   "execution_count": 124,
   "metadata": {},
   "outputs": [],
   "source": [
    "df.loc[df[\"date_modif_prod\"].isnull(),\"date_modif_prod\"] =df[\"date_modif_prod\"].value_counts().index[0]\n",
    "df.loc[df[\"date_end\"].isnull(),\"date_end\"] =df[\"date_end\"].value_counts().index[0]\n",
    "df.loc[df[\"date_renewal\"].isnull(),\"date_renewal\"] =df[\"date_renewal\"].value_counts().index[0]"
   ]
  },
  {
   "cell_type": "markdown",
   "metadata": {},
   "source": [
    "### Missing data"
   ]
  },
  {
   "cell_type": "markdown",
   "metadata": {},
   "source": [
    "There are missing data in the historical price dataset for some companies and months."
   ]
  },
  {
   "cell_type": "code",
   "execution_count": 125,
   "metadata": {},
   "outputs": [],
   "source": [
    "missing_data_percentage=hist_data.isnull().sum()/len(hist_data.index)*100"
   ]
  },
  {
   "cell_type": "code",
   "execution_count": 126,
   "metadata": {},
   "outputs": [
    {
     "data": {
      "image/png": "[encoded data removed]",
      "text/plain": [
       "<Figure size 1296x720 with 1 Axes>"
      ]
     },
     "metadata": {
      "needs_background": "light"
     },
     "output_type": "display_data"
    }
   ],
   "source": [
    "missing_data_percentage.plot(kind=\"bar\", figsize=(18,10))# Set labels\n",
    "plt.xlabel(\"Variables\")\n",
    "plt.ylabel(\"Missing values (%)\")\n",
    "plt.show()"
   ]
  },
  {
   "cell_type": "markdown",
   "metadata": {},
   "source": [
    "Impute with median.\n",
    "\n",
    "Note: We could use something slightly more complicated such as using the mean of the previous and following months to calculate the value of themissing month since the data does not vary much."
   ]
  },
  {
   "cell_type": "code",
   "execution_count": 129,
   "metadata": {},
   "outputs": [],
   "source": [
    "hist_data[hist_data.isnull().any(axis=1)]\n",
    "\n",
    "hist_data.loc[hist_data[\"price_p1_var\"].isnull(),\"price_p1_var\"] =hist_data[\"price_p1_var\"].median()\n",
    "hist_data.loc[hist_data[\"price_p2_var\"].isnull(),\"price_p2_var\"] =hist_data[\"price_p2_var\"].median()\n",
    "hist_data.loc[hist_data[\"price_p3_var\"].isnull(),\"price_p3_var\"] =hist_data[\"price_p3_var\"].median()\n",
    "hist_data.loc[hist_data[\"price_p1_fix\"].isnull(),\"price_p1_fix\"] =hist_data[\"price_p1_fix\"].median()\n",
    "hist_data.loc[hist_data[\"price_p2_fix\"].isnull(),\"price_p2_fix\"] =hist_data[\"price_p2_fix\"].median()\n",
    "hist_data.loc[hist_data[\"price_p3_fix\"].isnull(),\"price_p3_fix\"] =hist_data[\"price_p3_fix\"].median()"
   ]
  },
  {
   "cell_type": "markdown",
   "metadata": {},
   "source": [
    "### formatting dates"
   ]
  },
  {
   "cell_type": "code",
   "execution_count": 130,
   "metadata": {},
   "outputs": [],
   "source": [
    "# Transform date columns to datetime type\n",
    "df[\"date_activ\"] =pd.to_datetime(df[\"date_activ\"], format='%Y-%m-%d')\n",
    "df[\"date_end\"] =pd.to_datetime(df[\"date_end\"], format='%Y-%m-%d')\n",
    "df[\"date_modif_prod\"] =pd.to_datetime(df[\"date_modif_prod\"], format='%Y-%m-%d')\n",
    "df[\"date_renewal\"] =pd.to_datetime(df[\"date_renewal\"], format='%Y-%m-%d')"
   ]
  },
  {
   "cell_type": "code",
   "execution_count": 131,
   "metadata": {},
   "outputs": [],
   "source": [
    "hist_data[\"price_date\"] =pd.to_datetime(hist_data[\"price_date\"], format='%Y-%m-%d')"
   ]
  },
  {
   "cell_type": "markdown",
   "metadata": {},
   "source": [
    "### Negative data"
   ]
  },
  {
   "cell_type": "markdown",
   "metadata": {},
   "source": [
    "For the history data there are negative values for price_p1_fix, price_p2_fix and price_p3_fix.\n",
    "\n",
    "Further exploring on those we can see there are only about 10 entries which are negative. This is more likely to be due to corrupted data rather thana \"price discount\".\n",
    "\n",
    "We will replace the negative values with the median (most frequent value"
   ]
  },
  {
   "cell_type": "code",
   "execution_count": 133,
   "metadata": {},
   "outputs": [
    {
     "data": {
      "text/html": [
       "<div>\n",
       "<style scoped>\n",
       "    .dataframe tbody tr th:only-of-type {\n",
       "        vertical-align: middle;\n",
       "    }\n",
       "\n",
       "    .dataframe tbody tr th {\n",
       "        vertical-align: top;\n",
       "    }\n",
       "\n",
       "    .dataframe thead th {\n",
       "        text-align: right;\n",
       "    }\n",
       "</style>\n",
       "<table border=\"1\" class=\"dataframe\">\n",
       "  <thead>\n",
       "    <tr style=\"text-align: right;\">\n",
       "      <th></th>\n",
       "      <th>id</th>\n",
       "      <th>price_date</th>\n",
       "      <th>price_p1_var</th>\n",
       "      <th>price_p2_var</th>\n",
       "      <th>price_p3_var</th>\n",
       "      <th>price_p1_fix</th>\n",
       "      <th>price_p2_fix</th>\n",
       "      <th>price_p3_fix</th>\n",
       "    </tr>\n",
       "  </thead>\n",
       "  <tbody>\n",
       "    <tr>\n",
       "      <th>23138</th>\n",
       "      <td>951d99fe07ca94c2139f43bc37095139</td>\n",
       "      <td>2015-03-01</td>\n",
       "      <td>0.125976</td>\n",
       "      <td>0.103395</td>\n",
       "      <td>0.071536</td>\n",
       "      <td>-0.162916</td>\n",
       "      <td>-0.097749</td>\n",
       "      <td>-0.065166</td>\n",
       "    </tr>\n",
       "    <tr>\n",
       "      <th>28350</th>\n",
       "      <td>f7bdc6fa1067cd26fd80bfb9f3fca28f</td>\n",
       "      <td>2015-03-01</td>\n",
       "      <td>0.131032</td>\n",
       "      <td>0.108896</td>\n",
       "      <td>0.076955</td>\n",
       "      <td>-0.162916</td>\n",
       "      <td>-0.097749</td>\n",
       "      <td>-0.065166</td>\n",
       "    </tr>\n",
       "    <tr>\n",
       "      <th>98575</th>\n",
       "      <td>9b523ad5ba8aa2e524dcda5b3d54dab2</td>\n",
       "      <td>2015-02-01</td>\n",
       "      <td>0.129444</td>\n",
       "      <td>0.106863</td>\n",
       "      <td>0.075004</td>\n",
       "      <td>-0.162916</td>\n",
       "      <td>-0.097749</td>\n",
       "      <td>-0.065166</td>\n",
       "    </tr>\n",
       "    <tr>\n",
       "      <th>113467</th>\n",
       "      <td>cfd098ee6c567eb32374c77d20571bc7</td>\n",
       "      <td>2015-02-01</td>\n",
       "      <td>0.123086</td>\n",
       "      <td>0.100505</td>\n",
       "      <td>0.068646</td>\n",
       "      <td>-0.162916</td>\n",
       "      <td>-0.097749</td>\n",
       "      <td>-0.065166</td>\n",
       "    </tr>\n",
       "    <tr>\n",
       "      <th>118467</th>\n",
       "      <td>51d7d8a0bf6b8bd94f8c1de7942c66ea</td>\n",
       "      <td>2015-07-01</td>\n",
       "      <td>0.128132</td>\n",
       "      <td>0.105996</td>\n",
       "      <td>0.074056</td>\n",
       "      <td>-0.162912</td>\n",
       "      <td>-0.097752</td>\n",
       "      <td>-0.065172</td>\n",
       "    </tr>\n",
       "    <tr>\n",
       "      <th>125819</th>\n",
       "      <td>decc0a647016e183ded972595cd2b9fb</td>\n",
       "      <td>2015-03-01</td>\n",
       "      <td>0.124937</td>\n",
       "      <td>0.102814</td>\n",
       "      <td>0.069071</td>\n",
       "      <td>-0.162916</td>\n",
       "      <td>-0.097749</td>\n",
       "      <td>-0.065166</td>\n",
       "    </tr>\n",
       "    <tr>\n",
       "      <th>128761</th>\n",
       "      <td>cc214d7c05de3ee17a7691e274ac488e</td>\n",
       "      <td>2015-06-01</td>\n",
       "      <td>0.124675</td>\n",
       "      <td>0.102539</td>\n",
       "      <td>0.070596</td>\n",
       "      <td>-0.162912</td>\n",
       "      <td>-0.097752</td>\n",
       "      <td>-0.065172</td>\n",
       "    </tr>\n",
       "    <tr>\n",
       "      <th>141011</th>\n",
       "      <td>2a4ed325054472e03cdcc9a34693be4b</td>\n",
       "      <td>2015-02-01</td>\n",
       "      <td>0.167317</td>\n",
       "      <td>0.083347</td>\n",
       "      <td>0.000000</td>\n",
       "      <td>-0.177779</td>\n",
       "      <td>0.000000</td>\n",
       "      <td>0.000000</td>\n",
       "    </tr>\n",
       "    <tr>\n",
       "      <th>160827</th>\n",
       "      <td>395a6f41bbd1a0f23a64f00645264e78</td>\n",
       "      <td>2015-04-01</td>\n",
       "      <td>0.121352</td>\n",
       "      <td>0.098771</td>\n",
       "      <td>0.066912</td>\n",
       "      <td>-0.162916</td>\n",
       "      <td>-0.097749</td>\n",
       "      <td>-0.065166</td>\n",
       "    </tr>\n",
       "    <tr>\n",
       "      <th>181811</th>\n",
       "      <td>d4a84ff4ec620151ef05bdef0cf27eab</td>\n",
       "      <td>2015-05-01</td>\n",
       "      <td>0.125976</td>\n",
       "      <td>0.103395</td>\n",
       "      <td>0.071536</td>\n",
       "      <td>-0.162916</td>\n",
       "      <td>-0.097749</td>\n",
       "      <td>-0.065166</td>\n",
       "    </tr>\n",
       "  </tbody>\n",
       "</table>\n",
       "</div>"
      ],
      "text/plain": [
       "                                      id price_date  price_p1_var  \\\n",
       "23138   951d99fe07ca94c2139f43bc37095139 2015-03-01      0.125976   \n",
       "28350   f7bdc6fa1067cd26fd80bfb9f3fca28f 2015-03-01      0.131032   \n",
       "98575   9b523ad5ba8aa2e524dcda5b3d54dab2 2015-02-01      0.129444   \n",
       "113467  cfd098ee6c567eb32374c77d20571bc7 2015-02-01      0.123086   \n",
       "118467  51d7d8a0bf6b8bd94f8c1de7942c66ea 2015-07-01      0.128132   \n",
       "125819  decc0a647016e183ded972595cd2b9fb 2015-03-01      0.124937   \n",
       "128761  cc214d7c05de3ee17a7691e274ac488e 2015-06-01      0.124675   \n",
       "141011  2a4ed325054472e03cdcc9a34693be4b 2015-02-01      0.167317   \n",
       "160827  395a6f41bbd1a0f23a64f00645264e78 2015-04-01      0.121352   \n",
       "181811  d4a84ff4ec620151ef05bdef0cf27eab 2015-05-01      0.125976   \n",
       "\n",
       "        price_p2_var  price_p3_var  price_p1_fix  price_p2_fix  price_p3_fix  \n",
       "23138       0.103395      0.071536     -0.162916     -0.097749     -0.065166  \n",
       "28350       0.108896      0.076955     -0.162916     -0.097749     -0.065166  \n",
       "98575       0.106863      0.075004     -0.162916     -0.097749     -0.065166  \n",
       "113467      0.100505      0.068646     -0.162916     -0.097749     -0.065166  \n",
       "118467      0.105996      0.074056     -0.162912     -0.097752     -0.065172  \n",
       "125819      0.102814      0.069071     -0.162916     -0.097749     -0.065166  \n",
       "128761      0.102539      0.070596     -0.162912     -0.097752     -0.065172  \n",
       "141011      0.083347      0.000000     -0.177779      0.000000      0.000000  \n",
       "160827      0.098771      0.066912     -0.162916     -0.097749     -0.065166  \n",
       "181811      0.103395      0.071536     -0.162916     -0.097749     -0.065166  "
      ]
     },
     "execution_count": 133,
     "metadata": {},
     "output_type": "execute_result"
    }
   ],
   "source": [
    "hist_data[(hist_data.price_p1_fix<0) | (hist_data.price_p2_fix<0) | (hist_data.price_p3_fix<0)]"
   ]
  },
  {
   "cell_type": "code",
   "execution_count": 134,
   "metadata": {},
   "outputs": [],
   "source": [
    "hist_data.loc[hist_data[\"price_p1_fix\"] <0,\"price_p1_fix\"] =hist_data[\"price_p1_fix\"].median()\n",
    "hist_data.loc[hist_data[\"price_p2_fix\"] <0,\"price_p2_fix\"] =hist_data[\"price_p2_fix\"].median()\n",
    "hist_data.loc[hist_data[\"price_p3_fix\"] <0,\"price_p3_fix\"] =hist_data[\"price_p3_fix\"].median()"
   ]
  },
  {
   "cell_type": "code",
   "execution_count": null,
   "metadata": {},
   "outputs": [],
   "source": []
  },
  {
   "cell_type": "code",
   "execution_count": null,
   "metadata": {},
   "outputs": [],
   "source": []
  },
  {
   "cell_type": "code",
   "execution_count": null,
   "metadata": {},
   "outputs": [],
   "source": []
  },
  {
   "cell_type": "markdown",
   "metadata": {},
   "source": [
    "## 4. Data visualisation\n",
    "\n",
    "For variables included in the dataset."
   ]
  },
  {
   "cell_type": "markdown",
   "metadata": {},
   "source": [
    "### Churn\n",
    "\n",
    "The target variable: churn rate."
   ]
  },
  {
   "cell_type": "code",
   "execution_count": 135,
   "metadata": {},
   "outputs": [],
   "source": [
    "churn = df[[\"id\", \"churn\"]]\n",
    "churn.columns = [\"Companies\", \"churn\"]"
   ]
  },
  {
   "cell_type": "code",
   "execution_count": 136,
   "metadata": {},
   "outputs": [],
   "source": [
    "def plot_stacked_bars(dataframe, title_, size_=(18, 10), rot_=0, legend_=\"upper right\"):\n",
    "    \"\"\"    \n",
    "    Plot stacked bars with annotations\n",
    "    \"\"\"\n",
    "    ax=dataframe.plot(kind=\"bar\",\n",
    "                      stacked=True,\n",
    "                      figsize=size_,\n",
    "                      rot=rot_,\n",
    "                      title=title_)\n",
    "    # Annotate bars\n",
    "    annotate_stacked_bars(ax, textsize=14)\n",
    "    # Rename legend\n",
    "    plt.legend([\"Retention\", \"Churn\"], loc=legend_)\n",
    "    # Labels\n",
    "    plt.ylabel(\"Company base (%)\")\n",
    "    plt.show()\n",
    "    \n",
    "    \n",
    "def annotate_stacked_bars(ax, pad=0.99, colour=\"white\", textsize=13):\n",
    "    \"\"\"    \n",
    "    Add value annotations to the bars    \n",
    "    \"\"\"\n",
    "    # Iterate over the plotted rectanges/bars\n",
    "    for p in ax.patches:\n",
    "        # Calculate annotation\n",
    "        value=str(round(p.get_height(),1))\n",
    "        # If value is 0 do not annotate\n",
    "        if value =='0.0':\n",
    "            continue\n",
    "        ax.annotate(value,\n",
    "                    ((p.get_x()+p.get_width()/2)*pad-0.05, (p.get_y()+p.get_height()/2)*pad),\n",
    "                    color=colour,\n",
    "                    size=textsize,\n",
    "                   )"
   ]
  },
  {
   "cell_type": "code",
   "execution_count": 137,
   "metadata": {},
   "outputs": [],
   "source": [
    "churn_total=churn.groupby(churn[\"churn\"]).count()\n",
    "churn_percentage=churn_total/churn_total.sum()*100"
   ]
  },
  {
   "cell_type": "code",
   "execution_count": 138,
   "metadata": {
    "scrolled": true
   },
   "outputs": [
    {
     "data": {
      "image/png": "[encoded data removed]",
      "text/plain": [
       "<Figure size 360x360 with 1 Axes>"
      ]
     },
     "metadata": {
      "needs_background": "light"
     },
     "output_type": "display_data"
    }
   ],
   "source": [
    "plot_stacked_bars(churn_percentage.transpose(),\"Churning status\", (5,5), legend_=\"lower right\")"
   ]
  },
  {
   "cell_type": "markdown",
   "metadata": {},
   "source": [
    "Around 10% of totla customers have churned."
   ]
  },
  {
   "cell_type": "markdown",
   "metadata": {},
   "source": [
    "### SME activity"
   ]
  },
  {
   "cell_type": "code",
   "execution_count": 139,
   "metadata": {},
   "outputs": [],
   "source": [
    "activity=df[[\"id\",\"activity_new\", \"churn\"]]\n",
    "# category of the company's activity"
   ]
  },
  {
   "cell_type": "code",
   "execution_count": 140,
   "metadata": {},
   "outputs": [],
   "source": [
    "activity=activity.groupby([activity[\"activity_new\"],\n",
    "                           activity[\"churn\"]])[\"id\"].count().unstack(level=1).sort_values(by=[0], ascending=False)"
   ]
  },
  {
   "cell_type": "code",
   "execution_count": 141,
   "metadata": {
    "scrolled": true
   },
   "outputs": [
    {
     "data": {
      "text/html": [
       "<div>\n",
       "<style scoped>\n",
       "    .dataframe tbody tr th:only-of-type {\n",
       "        vertical-align: middle;\n",
       "    }\n",
       "\n",
       "    .dataframe tbody tr th {\n",
       "        vertical-align: top;\n",
       "    }\n",
       "\n",
       "    .dataframe thead th {\n",
       "        text-align: right;\n",
       "    }\n",
       "</style>\n",
       "<table border=\"1\" class=\"dataframe\">\n",
       "  <thead>\n",
       "    <tr style=\"text-align: right;\">\n",
       "      <th>churn</th>\n",
       "      <th>0</th>\n",
       "      <th>1</th>\n",
       "    </tr>\n",
       "    <tr>\n",
       "      <th>activity_new</th>\n",
       "      <th></th>\n",
       "      <th></th>\n",
       "    </tr>\n",
       "  </thead>\n",
       "  <tbody>\n",
       "    <tr>\n",
       "      <th>apdekpcbwosbxepsfxclislboipuxpop</th>\n",
       "      <td>1484.0</td>\n",
       "      <td>93.0</td>\n",
       "    </tr>\n",
       "    <tr>\n",
       "      <th>kkklcdamwfafdcfwofuscwfwadblfmce</th>\n",
       "      <td>384.0</td>\n",
       "      <td>38.0</td>\n",
       "    </tr>\n",
       "    <tr>\n",
       "      <th>kwuslieomapmswolewpobpplkaooaaew</th>\n",
       "      <td>200.0</td>\n",
       "      <td>30.0</td>\n",
       "    </tr>\n",
       "    <tr>\n",
       "      <th>fmwdwsxillemwbbwelxsampiuwwpcdcb</th>\n",
       "      <td>187.0</td>\n",
       "      <td>32.0</td>\n",
       "    </tr>\n",
       "    <tr>\n",
       "      <th>ckfxocssowaeipxueikxcmaxdmcduxsa</th>\n",
       "      <td>176.0</td>\n",
       "      <td>13.0</td>\n",
       "    </tr>\n",
       "    <tr>\n",
       "      <th>cwofmuicebbcmiaaxufmfimpowpacobu</th>\n",
       "      <td>110.0</td>\n",
       "      <td>12.0</td>\n",
       "    </tr>\n",
       "    <tr>\n",
       "      <th>cluecxlameloamldmasudocsbmaoamdw</th>\n",
       "      <td>105.0</td>\n",
       "      <td>14.0</td>\n",
       "    </tr>\n",
       "    <tr>\n",
       "      <th>wxemiwkumpibllwklfbcooafckufkdlm</th>\n",
       "      <td>102.0</td>\n",
       "      <td>17.0</td>\n",
       "    </tr>\n",
       "    <tr>\n",
       "      <th>sfisfxfcocfpcmckuekokxuseixdaoeu</th>\n",
       "      <td>78.0</td>\n",
       "      <td>5.0</td>\n",
       "    </tr>\n",
       "    <tr>\n",
       "      <th>sffadmsbuamddwapeumdfibkmpkdicmc</th>\n",
       "      <td>69.0</td>\n",
       "      <td>6.0</td>\n",
       "    </tr>\n",
       "    <tr>\n",
       "      <th>sxublbwoeuckkocekklxkllcdxxaisop</th>\n",
       "      <td>62.0</td>\n",
       "      <td>10.0</td>\n",
       "    </tr>\n",
       "    <tr>\n",
       "      <th>dupxuibdflmskeieweeofcaluuuiioix</th>\n",
       "      <td>59.0</td>\n",
       "      <td>2.0</td>\n",
       "    </tr>\n",
       "    <tr>\n",
       "      <th>ipdldckuswupeifllfbwccfpeafludfi</th>\n",
       "      <td>56.0</td>\n",
       "      <td>8.0</td>\n",
       "    </tr>\n",
       "    <tr>\n",
       "      <th>daobdssbkieoukwxbopxiiospudkopwl</th>\n",
       "      <td>53.0</td>\n",
       "      <td>5.0</td>\n",
       "    </tr>\n",
       "    <tr>\n",
       "      <th>saxlifeumaobawxpemwuopbwwldlucff</th>\n",
       "      <td>53.0</td>\n",
       "      <td>9.0</td>\n",
       "    </tr>\n",
       "    <tr>\n",
       "      <th>ibkiiwcxiccxpoedpweiuxwbxbuewbxm</th>\n",
       "      <td>50.0</td>\n",
       "      <td>7.0</td>\n",
       "    </tr>\n",
       "    <tr>\n",
       "      <th>cfdsselwimsklimddecfifseabdkxfcs</th>\n",
       "      <td>50.0</td>\n",
       "      <td>1.0</td>\n",
       "    </tr>\n",
       "    <tr>\n",
       "      <th>ilkfsaapsxpkcpswbllddfmpamwelpxi</th>\n",
       "      <td>46.0</td>\n",
       "      <td>4.0</td>\n",
       "    </tr>\n",
       "    <tr>\n",
       "      <th>bwpaswkpcilmlklklcapcwwumwaodaoo</th>\n",
       "      <td>42.0</td>\n",
       "      <td>6.0</td>\n",
       "    </tr>\n",
       "    <tr>\n",
       "      <th>bxopwkbwdewxssbmkwcummkaakbwafxf</th>\n",
       "      <td>42.0</td>\n",
       "      <td>6.0</td>\n",
       "    </tr>\n",
       "    <tr>\n",
       "      <th>sumdxiaiudmaioicexmiwuudlblkissm</th>\n",
       "      <td>40.0</td>\n",
       "      <td>3.0</td>\n",
       "    </tr>\n",
       "    <tr>\n",
       "      <th>ddkpdekmbfdffwdmabkiiilolsxswccl</th>\n",
       "      <td>39.0</td>\n",
       "      <td>2.0</td>\n",
       "    </tr>\n",
       "    <tr>\n",
       "      <th>mpicaaibskkfmxoblmwwwuuwpkecacil</th>\n",
       "      <td>38.0</td>\n",
       "      <td>6.0</td>\n",
       "    </tr>\n",
       "    <tr>\n",
       "      <th>balskueexlmuccwdffilikwxasupasxf</th>\n",
       "      <td>37.0</td>\n",
       "      <td>6.0</td>\n",
       "    </tr>\n",
       "    <tr>\n",
       "      <th>lkeudbeowbapkpfodoxacpwdpaeuwxcx</th>\n",
       "      <td>37.0</td>\n",
       "      <td>4.0</td>\n",
       "    </tr>\n",
       "    <tr>\n",
       "      <th>kmxccaddbdpaaolkbidlobeefsbbcxca</th>\n",
       "      <td>35.0</td>\n",
       "      <td>1.0</td>\n",
       "    </tr>\n",
       "    <tr>\n",
       "      <th>ppcxfxbffsxaakxamcdpexdoxulfwwae</th>\n",
       "      <td>34.0</td>\n",
       "      <td>7.0</td>\n",
       "    </tr>\n",
       "    <tr>\n",
       "      <th>axsupumdipebmlbiwolspmkdouoiddbc</th>\n",
       "      <td>31.0</td>\n",
       "      <td>3.0</td>\n",
       "    </tr>\n",
       "    <tr>\n",
       "      <th>ckadsdebplpkplelfspfoiucmxkeppus</th>\n",
       "      <td>30.0</td>\n",
       "      <td>3.0</td>\n",
       "    </tr>\n",
       "    <tr>\n",
       "      <th>dfcsaaowsemmabpepocaeaaecfwppxxk</th>\n",
       "      <td>29.0</td>\n",
       "      <td>3.0</td>\n",
       "    </tr>\n",
       "    <tr>\n",
       "      <th>...</th>\n",
       "      <td>...</td>\n",
       "      <td>...</td>\n",
       "    </tr>\n",
       "    <tr>\n",
       "      <th>opemwsspmskladcbclpkmilallxmiook</th>\n",
       "      <td>1.0</td>\n",
       "      <td>NaN</td>\n",
       "    </tr>\n",
       "    <tr>\n",
       "      <th>pfisxsdussmdffcfmiiuepecffmlpxxm</th>\n",
       "      <td>1.0</td>\n",
       "      <td>1.0</td>\n",
       "    </tr>\n",
       "    <tr>\n",
       "      <th>pudpxobkpuxbalsmeimfkwocseoamsoi</th>\n",
       "      <td>1.0</td>\n",
       "      <td>NaN</td>\n",
       "    </tr>\n",
       "    <tr>\n",
       "      <th>laslwixpcspcffiadlfkeosicpsuaboc</th>\n",
       "      <td>1.0</td>\n",
       "      <td>NaN</td>\n",
       "    </tr>\n",
       "    <tr>\n",
       "      <th>lakksuxlbesxeskmemsppkiebumeimkm</th>\n",
       "      <td>1.0</td>\n",
       "      <td>1.0</td>\n",
       "    </tr>\n",
       "    <tr>\n",
       "      <th>ksukukiwxdxwbfwaapmuwippflemumlp</th>\n",
       "      <td>1.0</td>\n",
       "      <td>NaN</td>\n",
       "    </tr>\n",
       "    <tr>\n",
       "      <th>iuicsodpwomiidiakdpdkxomecpxcdod</th>\n",
       "      <td>1.0</td>\n",
       "      <td>NaN</td>\n",
       "    </tr>\n",
       "    <tr>\n",
       "      <th>fodmmlekiamkemipdukmkkpmdecbbabb</th>\n",
       "      <td>1.0</td>\n",
       "      <td>1.0</td>\n",
       "    </tr>\n",
       "    <tr>\n",
       "      <th>fuffsxwkckuoabdsallukmckpwlikakw</th>\n",
       "      <td>1.0</td>\n",
       "      <td>NaN</td>\n",
       "    </tr>\n",
       "    <tr>\n",
       "      <th>fwddlsxciofoefslfumfpxxmcomoaucd</th>\n",
       "      <td>1.0</td>\n",
       "      <td>NaN</td>\n",
       "    </tr>\n",
       "    <tr>\n",
       "      <th>fxocpcbfplipxiokscwiuexkceoucmko</th>\n",
       "      <td>1.0</td>\n",
       "      <td>NaN</td>\n",
       "    </tr>\n",
       "    <tr>\n",
       "      <th>ifdlbmlxdpwlpxkidiblliebeupwcaxu</th>\n",
       "      <td>1.0</td>\n",
       "      <td>NaN</td>\n",
       "    </tr>\n",
       "    <tr>\n",
       "      <th>iilxdefdkwudppkiekwlcexkdupeucla</th>\n",
       "      <td>1.0</td>\n",
       "      <td>NaN</td>\n",
       "    </tr>\n",
       "    <tr>\n",
       "      <th>iwmoskaicewfewukldfwcdwlxcwwoeom</th>\n",
       "      <td>1.0</td>\n",
       "      <td>NaN</td>\n",
       "    </tr>\n",
       "    <tr>\n",
       "      <th>kpkesxdaobicuwwkukxwmdpsbowwbomd</th>\n",
       "      <td>1.0</td>\n",
       "      <td>NaN</td>\n",
       "    </tr>\n",
       "    <tr>\n",
       "      <th>kcioolmpmuxpoeuicskiafwcmadeflfc</th>\n",
       "      <td>1.0</td>\n",
       "      <td>NaN</td>\n",
       "    </tr>\n",
       "    <tr>\n",
       "      <th>kimmoxipdxfalcpoueuwkddauubioiwl</th>\n",
       "      <td>1.0</td>\n",
       "      <td>NaN</td>\n",
       "    </tr>\n",
       "    <tr>\n",
       "      <th>kkkmlicifclosfkbxodcmsaweebkolde</th>\n",
       "      <td>1.0</td>\n",
       "      <td>NaN</td>\n",
       "    </tr>\n",
       "    <tr>\n",
       "      <th>klaclcdipfdkebisxwccdbdooobmiwpl</th>\n",
       "      <td>1.0</td>\n",
       "      <td>NaN</td>\n",
       "    </tr>\n",
       "    <tr>\n",
       "      <th>kleicdldcamuaislmkwowllimpblacpf</th>\n",
       "      <td>1.0</td>\n",
       "      <td>NaN</td>\n",
       "    </tr>\n",
       "    <tr>\n",
       "      <th>klsmomiakxdaufoldfilmbxcpuaxiosp</th>\n",
       "      <td>1.0</td>\n",
       "      <td>NaN</td>\n",
       "    </tr>\n",
       "    <tr>\n",
       "      <th>kllldxcildwkssbmoabmsdffmawsafsf</th>\n",
       "      <td>1.0</td>\n",
       "      <td>NaN</td>\n",
       "    </tr>\n",
       "    <tr>\n",
       "      <th>ikiucmkuisupefxcxfxxulkpwssppfuo</th>\n",
       "      <td>NaN</td>\n",
       "      <td>1.0</td>\n",
       "    </tr>\n",
       "    <tr>\n",
       "      <th>kmlwkmxoocpieebifumobckeafmidpxf</th>\n",
       "      <td>NaN</td>\n",
       "      <td>1.0</td>\n",
       "    </tr>\n",
       "    <tr>\n",
       "      <th>oeacexidmflusdkwuuicmpiaklkxulxm</th>\n",
       "      <td>NaN</td>\n",
       "      <td>1.0</td>\n",
       "    </tr>\n",
       "    <tr>\n",
       "      <th>opoiuuwdmxdssidluooopfswlkkkcsxf</th>\n",
       "      <td>NaN</td>\n",
       "      <td>1.0</td>\n",
       "    </tr>\n",
       "    <tr>\n",
       "      <th>pfcocskbxlmofswiflsbcefcpufbopuo</th>\n",
       "      <td>NaN</td>\n",
       "      <td>2.0</td>\n",
       "    </tr>\n",
       "    <tr>\n",
       "      <th>wceaopxmdpccxfmcdpopulcaubcxibuw</th>\n",
       "      <td>NaN</td>\n",
       "      <td>1.0</td>\n",
       "    </tr>\n",
       "    <tr>\n",
       "      <th>wkwdccuiboaeaalcaawlwmldiwmpewma</th>\n",
       "      <td>NaN</td>\n",
       "      <td>1.0</td>\n",
       "    </tr>\n",
       "    <tr>\n",
       "      <th>xwkaesbkfsacseixxksofpddwfkbobki</th>\n",
       "      <td>NaN</td>\n",
       "      <td>1.0</td>\n",
       "    </tr>\n",
       "  </tbody>\n",
       "</table>\n",
       "<p>419 rows × 2 columns</p>\n",
       "</div>"
      ],
      "text/plain": [
       "churn                                  0     1\n",
       "activity_new                                  \n",
       "apdekpcbwosbxepsfxclislboipuxpop  1484.0  93.0\n",
       "kkklcdamwfafdcfwofuscwfwadblfmce   384.0  38.0\n",
       "kwuslieomapmswolewpobpplkaooaaew   200.0  30.0\n",
       "fmwdwsxillemwbbwelxsampiuwwpcdcb   187.0  32.0\n",
       "ckfxocssowaeipxueikxcmaxdmcduxsa   176.0  13.0\n",
       "cwofmuicebbcmiaaxufmfimpowpacobu   110.0  12.0\n",
       "cluecxlameloamldmasudocsbmaoamdw   105.0  14.0\n",
       "wxemiwkumpibllwklfbcooafckufkdlm   102.0  17.0\n",
       "sfisfxfcocfpcmckuekokxuseixdaoeu    78.0   5.0\n",
       "sffadmsbuamddwapeumdfibkmpkdicmc    69.0   6.0\n",
       "sxublbwoeuckkocekklxkllcdxxaisop    62.0  10.0\n",
       "dupxuibdflmskeieweeofcaluuuiioix    59.0   2.0\n",
       "ipdldckuswupeifllfbwccfpeafludfi    56.0   8.0\n",
       "daobdssbkieoukwxbopxiiospudkopwl    53.0   5.0\n",
       "saxlifeumaobawxpemwuopbwwldlucff    53.0   9.0\n",
       "ibkiiwcxiccxpoedpweiuxwbxbuewbxm    50.0   7.0\n",
       "cfdsselwimsklimddecfifseabdkxfcs    50.0   1.0\n",
       "ilkfsaapsxpkcpswbllddfmpamwelpxi    46.0   4.0\n",
       "bwpaswkpcilmlklklcapcwwumwaodaoo    42.0   6.0\n",
       "bxopwkbwdewxssbmkwcummkaakbwafxf    42.0   6.0\n",
       "sumdxiaiudmaioicexmiwuudlblkissm    40.0   3.0\n",
       "ddkpdekmbfdffwdmabkiiilolsxswccl    39.0   2.0\n",
       "mpicaaibskkfmxoblmwwwuuwpkecacil    38.0   6.0\n",
       "balskueexlmuccwdffilikwxasupasxf    37.0   6.0\n",
       "lkeudbeowbapkpfodoxacpwdpaeuwxcx    37.0   4.0\n",
       "kmxccaddbdpaaolkbidlobeefsbbcxca    35.0   1.0\n",
       "ppcxfxbffsxaakxamcdpexdoxulfwwae    34.0   7.0\n",
       "axsupumdipebmlbiwolspmkdouoiddbc    31.0   3.0\n",
       "ckadsdebplpkplelfspfoiucmxkeppus    30.0   3.0\n",
       "dfcsaaowsemmabpepocaeaaecfwppxxk    29.0   3.0\n",
       "...                                  ...   ...\n",
       "opemwsspmskladcbclpkmilallxmiook     1.0   NaN\n",
       "pfisxsdussmdffcfmiiuepecffmlpxxm     1.0   1.0\n",
       "pudpxobkpuxbalsmeimfkwocseoamsoi     1.0   NaN\n",
       "laslwixpcspcffiadlfkeosicpsuaboc     1.0   NaN\n",
       "lakksuxlbesxeskmemsppkiebumeimkm     1.0   1.0\n",
       "ksukukiwxdxwbfwaapmuwippflemumlp     1.0   NaN\n",
       "iuicsodpwomiidiakdpdkxomecpxcdod     1.0   NaN\n",
       "fodmmlekiamkemipdukmkkpmdecbbabb     1.0   1.0\n",
       "fuffsxwkckuoabdsallukmckpwlikakw     1.0   NaN\n",
       "fwddlsxciofoefslfumfpxxmcomoaucd     1.0   NaN\n",
       "fxocpcbfplipxiokscwiuexkceoucmko     1.0   NaN\n",
       "ifdlbmlxdpwlpxkidiblliebeupwcaxu     1.0   NaN\n",
       "iilxdefdkwudppkiekwlcexkdupeucla     1.0   NaN\n",
       "iwmoskaicewfewukldfwcdwlxcwwoeom     1.0   NaN\n",
       "kpkesxdaobicuwwkukxwmdpsbowwbomd     1.0   NaN\n",
       "kcioolmpmuxpoeuicskiafwcmadeflfc     1.0   NaN\n",
       "kimmoxipdxfalcpoueuwkddauubioiwl     1.0   NaN\n",
       "kkkmlicifclosfkbxodcmsaweebkolde     1.0   NaN\n",
       "klaclcdipfdkebisxwccdbdooobmiwpl     1.0   NaN\n",
       "kleicdldcamuaislmkwowllimpblacpf     1.0   NaN\n",
       "klsmomiakxdaufoldfilmbxcpuaxiosp     1.0   NaN\n",
       "kllldxcildwkssbmoabmsdffmawsafsf     1.0   NaN\n",
       "ikiucmkuisupefxcxfxxulkpwssppfuo     NaN   1.0\n",
       "kmlwkmxoocpieebifumobckeafmidpxf     NaN   1.0\n",
       "oeacexidmflusdkwuuicmpiaklkxulxm     NaN   1.0\n",
       "opoiuuwdmxdssidluooopfswlkkkcsxf     NaN   1.0\n",
       "pfcocskbxlmofswiflsbcefcpufbopuo     NaN   2.0\n",
       "wceaopxmdpccxfmcdpopulcaubcxibuw     NaN   1.0\n",
       "wkwdccuiboaeaalcaawlwmldiwmpewma     NaN   1.0\n",
       "xwkaesbkfsacseixxksofpddwfkbobki     NaN   1.0\n",
       "\n",
       "[419 rows x 2 columns]"
      ]
     },
     "execution_count": 141,
     "metadata": {},
     "output_type": "execute_result"
    }
   ],
   "source": [
    "activity"
   ]
  },
  {
   "cell_type": "code",
   "execution_count": 142,
   "metadata": {},
   "outputs": [
    {
     "data": {
      "image/png": "[encoded data removed]",
      "text/plain": [
       "<Figure size 1296x720 with 1 Axes>"
      ]
     },
     "metadata": {
      "needs_background": "light"
     },
     "output_type": "display_data"
    }
   ],
   "source": [
    "activity.plot(kind=\"bar\",\n",
    "              figsize=(18, 10),\n",
    "              width=2,\n",
    "              stacked=True,\n",
    "              title=\"SME Activity\")\n",
    "# Labels\n",
    "plt.ylabel(\"Number of companies\")\n",
    "plt.xlabel(\"Activity\")\n",
    "# Rename legend\n",
    "plt.legend([\"Retention\", \"Churn\"], loc=\"upper right\")\n",
    "# Remove the label for the xticks as the categories are encoded and we can't draw any meaning from them yet\n",
    "plt.xticks([])\n",
    "plt.show()"
   ]
  },
  {
   "cell_type": "markdown",
   "metadata": {},
   "source": [
    " churn is not specifically related to any SME cateogry in particular"
   ]
  },
  {
   "cell_type": "markdown",
   "metadata": {},
   "source": [
    "To look at the values percentage-wise. If sorted by activity some companies have churned a 100% but this is due to the fact that only a few companies belong to that activity."
   ]
  },
  {
   "cell_type": "code",
   "execution_count": 143,
   "metadata": {},
   "outputs": [
    {
     "data": {
      "text/html": [
       "<div>\n",
       "<style scoped>\n",
       "    .dataframe tbody tr th:only-of-type {\n",
       "        vertical-align: middle;\n",
       "    }\n",
       "\n",
       "    .dataframe tbody tr th {\n",
       "        vertical-align: top;\n",
       "    }\n",
       "\n",
       "    .dataframe thead th {\n",
       "        text-align: right;\n",
       "    }\n",
       "</style>\n",
       "<table border=\"1\" class=\"dataframe\">\n",
       "  <thead>\n",
       "    <tr style=\"text-align: right;\">\n",
       "      <th></th>\n",
       "      <th>Percentage churn</th>\n",
       "      <th>Total companies</th>\n",
       "    </tr>\n",
       "    <tr>\n",
       "      <th>activity_new</th>\n",
       "      <th></th>\n",
       "      <th></th>\n",
       "    </tr>\n",
       "  </thead>\n",
       "  <tbody>\n",
       "    <tr>\n",
       "      <th>xwkaesbkfsacseixxksofpddwfkbobki</th>\n",
       "      <td>100.000000</td>\n",
       "      <td>1.0</td>\n",
       "    </tr>\n",
       "    <tr>\n",
       "      <th>wkwdccuiboaeaalcaawlwmldiwmpewma</th>\n",
       "      <td>100.000000</td>\n",
       "      <td>1.0</td>\n",
       "    </tr>\n",
       "    <tr>\n",
       "      <th>ikiucmkuisupefxcxfxxulkpwssppfuo</th>\n",
       "      <td>100.000000</td>\n",
       "      <td>1.0</td>\n",
       "    </tr>\n",
       "    <tr>\n",
       "      <th>opoiuuwdmxdssidluooopfswlkkkcsxf</th>\n",
       "      <td>100.000000</td>\n",
       "      <td>1.0</td>\n",
       "    </tr>\n",
       "    <tr>\n",
       "      <th>pfcocskbxlmofswiflsbcefcpufbopuo</th>\n",
       "      <td>100.000000</td>\n",
       "      <td>2.0</td>\n",
       "    </tr>\n",
       "    <tr>\n",
       "      <th>oeacexidmflusdkwuuicmpiaklkxulxm</th>\n",
       "      <td>100.000000</td>\n",
       "      <td>1.0</td>\n",
       "    </tr>\n",
       "    <tr>\n",
       "      <th>wceaopxmdpccxfmcdpopulcaubcxibuw</th>\n",
       "      <td>100.000000</td>\n",
       "      <td>1.0</td>\n",
       "    </tr>\n",
       "    <tr>\n",
       "      <th>kmlwkmxoocpieebifumobckeafmidpxf</th>\n",
       "      <td>100.000000</td>\n",
       "      <td>1.0</td>\n",
       "    </tr>\n",
       "    <tr>\n",
       "      <th>cwouwoubfifoafkxifokoidcuoamebea</th>\n",
       "      <td>66.666667</td>\n",
       "      <td>3.0</td>\n",
       "    </tr>\n",
       "    <tr>\n",
       "      <th>wfiuolfffsekuoimxdsasfwcmwssewoi</th>\n",
       "      <td>50.000000</td>\n",
       "      <td>4.0</td>\n",
       "    </tr>\n",
       "  </tbody>\n",
       "</table>\n",
       "</div>"
      ],
      "text/plain": [
       "                                  Percentage churn  Total companies\n",
       "activity_new                                                       \n",
       "xwkaesbkfsacseixxksofpddwfkbobki        100.000000              1.0\n",
       "wkwdccuiboaeaalcaawlwmldiwmpewma        100.000000              1.0\n",
       "ikiucmkuisupefxcxfxxulkpwssppfuo        100.000000              1.0\n",
       "opoiuuwdmxdssidluooopfswlkkkcsxf        100.000000              1.0\n",
       "pfcocskbxlmofswiflsbcefcpufbopuo        100.000000              2.0\n",
       "oeacexidmflusdkwuuicmpiaklkxulxm        100.000000              1.0\n",
       "wceaopxmdpccxfmcdpopulcaubcxibuw        100.000000              1.0\n",
       "kmlwkmxoocpieebifumobckeafmidpxf        100.000000              1.0\n",
       "cwouwoubfifoafkxifokoidcuoamebea         66.666667              3.0\n",
       "wfiuolfffsekuoimxdsasfwcmwssewoi         50.000000              4.0"
      ]
     },
     "execution_count": 143,
     "metadata": {},
     "output_type": "execute_result"
    }
   ],
   "source": [
    "activity_total=activity.fillna(0)[0]+activity.fillna(0)[1]\n",
    "activity_percentage=activity.fillna(0)[1]/(activity_total)*100\n",
    "pd.DataFrame({\"Percentage churn\": activity_percentage\n",
    "              ,\"Total companies\": activity_total }).sort_values(by=\"Percentage churn\",\n",
    "                                                                ascending=False).head(10)"
   ]
  },
  {
   "cell_type": "markdown",
   "metadata": {},
   "source": [
    "Our predictive model is likely to struggle accurately predicting the the SME activity due to the large number of categories and low number of companies belonging to each category."
   ]
  },
  {
   "cell_type": "markdown",
   "metadata": {},
   "source": [
    "### Sales channel\n",
    "Note: can be telephone, email... hashed text strings here."
   ]
  },
  {
   "cell_type": "code",
   "execution_count": 144,
   "metadata": {},
   "outputs": [],
   "source": [
    "channel=df[[\"id\",\"channel_sales\", \"churn\"]]"
   ]
  },
  {
   "cell_type": "code",
   "execution_count": 145,
   "metadata": {},
   "outputs": [],
   "source": [
    "channel=channel.groupby([channel[\"channel_sales\"],\n",
    "                         channel[\"churn\"]])[\"id\"].count().unstack(level=1).fillna(0)"
   ]
  },
  {
   "cell_type": "code",
   "execution_count": 146,
   "metadata": {},
   "outputs": [
    {
     "data": {
      "text/html": [
       "<div>\n",
       "<style scoped>\n",
       "    .dataframe tbody tr th:only-of-type {\n",
       "        vertical-align: middle;\n",
       "    }\n",
       "\n",
       "    .dataframe tbody tr th {\n",
       "        vertical-align: top;\n",
       "    }\n",
       "\n",
       "    .dataframe thead th {\n",
       "        text-align: right;\n",
       "    }\n",
       "</style>\n",
       "<table border=\"1\" class=\"dataframe\">\n",
       "  <thead>\n",
       "    <tr style=\"text-align: right;\">\n",
       "      <th>churn</th>\n",
       "      <th>0</th>\n",
       "      <th>1</th>\n",
       "    </tr>\n",
       "    <tr>\n",
       "      <th>channel_sales</th>\n",
       "      <th></th>\n",
       "      <th></th>\n",
       "    </tr>\n",
       "  </thead>\n",
       "  <tbody>\n",
       "    <tr>\n",
       "      <th>epumfxlbckeskwekxbiuasklxalciiuu</th>\n",
       "      <td>4.0</td>\n",
       "      <td>0.0</td>\n",
       "    </tr>\n",
       "    <tr>\n",
       "      <th>ewpakwlliwisiwduibdlfmalxowmwpci</th>\n",
       "      <td>884.0</td>\n",
       "      <td>82.0</td>\n",
       "    </tr>\n",
       "    <tr>\n",
       "      <th>fixdbufsefwooaasfcxdxadsiekoceaa</th>\n",
       "      <td>2.0</td>\n",
       "      <td>0.0</td>\n",
       "    </tr>\n",
       "    <tr>\n",
       "      <th>foosdfpfkusacimwkcsosbicdxkicaua</th>\n",
       "      <td>6455.0</td>\n",
       "      <td>922.0</td>\n",
       "    </tr>\n",
       "    <tr>\n",
       "      <th>lmkebamcaaclubfxadlmueccxoimlema</th>\n",
       "      <td>1957.0</td>\n",
       "      <td>116.0</td>\n",
       "    </tr>\n",
       "    <tr>\n",
       "      <th>sddiedcslfslkckwlfkdpoeeailfpeds</th>\n",
       "      <td>12.0</td>\n",
       "      <td>0.0</td>\n",
       "    </tr>\n",
       "    <tr>\n",
       "      <th>usilxuppasemubllopkaafesmlibmsdf</th>\n",
       "      <td>1294.0</td>\n",
       "      <td>150.0</td>\n",
       "    </tr>\n",
       "  </tbody>\n",
       "</table>\n",
       "</div>"
      ],
      "text/plain": [
       "churn                                  0      1\n",
       "channel_sales                                  \n",
       "epumfxlbckeskwekxbiuasklxalciiuu     4.0    0.0\n",
       "ewpakwlliwisiwduibdlfmalxowmwpci   884.0   82.0\n",
       "fixdbufsefwooaasfcxdxadsiekoceaa     2.0    0.0\n",
       "foosdfpfkusacimwkcsosbicdxkicaua  6455.0  922.0\n",
       "lmkebamcaaclubfxadlmueccxoimlema  1957.0  116.0\n",
       "sddiedcslfslkckwlfkdpoeeailfpeds    12.0    0.0\n",
       "usilxuppasemubllopkaafesmlibmsdf  1294.0  150.0"
      ]
     },
     "execution_count": 146,
     "metadata": {},
     "output_type": "execute_result"
    }
   ],
   "source": [
    "channel"
   ]
  },
  {
   "cell_type": "code",
   "execution_count": 147,
   "metadata": {},
   "outputs": [],
   "source": [
    "channel_churn= (channel.div(channel.sum(axis=1), axis=0)*100).sort_values(by=[1], ascending=False)"
   ]
  },
  {
   "cell_type": "markdown",
   "metadata": {},
   "source": [
    "We will plot the categories, despite the fact that data is available for only 75% of the dataset."
   ]
  },
  {
   "cell_type": "code",
   "execution_count": 148,
   "metadata": {},
   "outputs": [
    {
     "data": {
      "image/png": "[encoded data removed]",
      "text/plain": [
       "<Figure size 1296x720 with 1 Axes>"
      ]
     },
     "metadata": {
      "needs_background": "light"
     },
     "output_type": "display_data"
    }
   ],
   "source": [
    "plot_stacked_bars(channel_churn, \"Sales Channel\", rot_=30)"
   ]
  },
  {
   "cell_type": "markdown",
   "metadata": {},
   "source": [
    "To see percentage-wise"
   ]
  },
  {
   "cell_type": "code",
   "execution_count": 149,
   "metadata": {},
   "outputs": [
    {
     "data": {
      "text/html": [
       "<div>\n",
       "<style scoped>\n",
       "    .dataframe tbody tr th:only-of-type {\n",
       "        vertical-align: middle;\n",
       "    }\n",
       "\n",
       "    .dataframe tbody tr th {\n",
       "        vertical-align: top;\n",
       "    }\n",
       "\n",
       "    .dataframe thead th {\n",
       "        text-align: right;\n",
       "    }\n",
       "</style>\n",
       "<table border=\"1\" class=\"dataframe\">\n",
       "  <thead>\n",
       "    <tr style=\"text-align: right;\">\n",
       "      <th></th>\n",
       "      <th>Churn percentage</th>\n",
       "      <th>Total companies</th>\n",
       "    </tr>\n",
       "    <tr>\n",
       "      <th>channel_sales</th>\n",
       "      <th></th>\n",
       "      <th></th>\n",
       "    </tr>\n",
       "  </thead>\n",
       "  <tbody>\n",
       "    <tr>\n",
       "      <th>foosdfpfkusacimwkcsosbicdxkicaua</th>\n",
       "      <td>12.498306</td>\n",
       "      <td>7377.0</td>\n",
       "    </tr>\n",
       "    <tr>\n",
       "      <th>usilxuppasemubllopkaafesmlibmsdf</th>\n",
       "      <td>10.387812</td>\n",
       "      <td>1444.0</td>\n",
       "    </tr>\n",
       "    <tr>\n",
       "      <th>ewpakwlliwisiwduibdlfmalxowmwpci</th>\n",
       "      <td>8.488613</td>\n",
       "      <td>966.0</td>\n",
       "    </tr>\n",
       "    <tr>\n",
       "      <th>lmkebamcaaclubfxadlmueccxoimlema</th>\n",
       "      <td>5.595755</td>\n",
       "      <td>2073.0</td>\n",
       "    </tr>\n",
       "    <tr>\n",
       "      <th>epumfxlbckeskwekxbiuasklxalciiuu</th>\n",
       "      <td>0.000000</td>\n",
       "      <td>4.0</td>\n",
       "    </tr>\n",
       "    <tr>\n",
       "      <th>fixdbufsefwooaasfcxdxadsiekoceaa</th>\n",
       "      <td>0.000000</td>\n",
       "      <td>2.0</td>\n",
       "    </tr>\n",
       "    <tr>\n",
       "      <th>sddiedcslfslkckwlfkdpoeeailfpeds</th>\n",
       "      <td>0.000000</td>\n",
       "      <td>12.0</td>\n",
       "    </tr>\n",
       "  </tbody>\n",
       "</table>\n",
       "</div>"
      ],
      "text/plain": [
       "                                  Churn percentage  Total companies\n",
       "channel_sales                                                      \n",
       "foosdfpfkusacimwkcsosbicdxkicaua         12.498306           7377.0\n",
       "usilxuppasemubllopkaafesmlibmsdf         10.387812           1444.0\n",
       "ewpakwlliwisiwduibdlfmalxowmwpci          8.488613            966.0\n",
       "lmkebamcaaclubfxadlmueccxoimlema          5.595755           2073.0\n",
       "epumfxlbckeskwekxbiuasklxalciiuu          0.000000              4.0\n",
       "fixdbufsefwooaasfcxdxadsiekoceaa          0.000000              2.0\n",
       "sddiedcslfslkckwlfkdpoeeailfpeds          0.000000             12.0"
      ]
     },
     "execution_count": 149,
     "metadata": {},
     "output_type": "execute_result"
    }
   ],
   "source": [
    "channel_total=channel.fillna(0)[0]+channel.fillna(0)[1]\n",
    "channel_percentage=channel.fillna(0)[1]/(channel_total)*100\n",
    "pd.DataFrame({\"Churn percentage\": channel_percentage,\"Total companies\": channel_total }).sort_values(by=\"Churn percentage\",\n",
    "                                                                                                     ascending=False).head(10)"
   ]
  },
  {
   "cell_type": "markdown",
   "metadata": {},
   "source": [
    "### Consumption"
   ]
  },
  {
   "cell_type": "code",
   "execution_count": 150,
   "metadata": {},
   "outputs": [],
   "source": [
    "consumption=df[[\"id\",\"cons_12m\", \"cons_gas_12m\",\"cons_last_month\", \"imp_cons\", \"has_gas\", \"churn\"]]"
   ]
  },
  {
   "cell_type": "markdown",
   "metadata": {},
   "source": [
    "The most straight forward to visualise and identify the distribution of uni-variate data is through histograms"
   ]
  },
  {
   "cell_type": "code",
   "execution_count": 151,
   "metadata": {},
   "outputs": [],
   "source": [
    "def plot_distribution(dataframe, column, ax, bins_=50):\n",
    "    \"\"\"    \n",
    "    Plot variable distirbution in a stacked histogram of churned or retained company    \n",
    "    \"\"\"\n",
    "    # Create a temporal dataframe with the data to be plot\n",
    "    temp=pd.DataFrame({\"Retention\": dataframe[dataframe[\"churn\"]==0][column],\n",
    "                       \"Churn\":dataframe[dataframe[\"churn\"]==1][column]})\n",
    "    # Plot the histogram\n",
    "    temp[[\"Retention\",\"Churn\"]].plot(kind='hist', bins=bins_, ax=ax, stacked=True)\n",
    "    # X-axis label\n",
    "    ax.set_xlabel(column)\n",
    "    # Change the x-axis to plain style\n",
    "    ax.ticklabel_format(style='plain', axis='x')"
   ]
  },
  {
   "cell_type": "code",
   "execution_count": 152,
   "metadata": {},
   "outputs": [
    {
     "data": {
      "image/png": "[encoded data removed]",
      "text/plain": [
       "<Figure size 1296x1800 with 4 Axes>"
      ]
     },
     "metadata": {
      "needs_background": "light"
     },
     "output_type": "display_data"
    }
   ],
   "source": [
    "fig, axs=plt.subplots(nrows=4, figsize=(18,25))\n",
    "# Plot histogram\n",
    "plot_distribution(consumption, \"cons_12m\", axs[0])\n",
    "# Note that the gas consumption must have gas contract\n",
    "plot_distribution(consumption[consumption[\"has_gas\"] ==\"t\"], \"cons_gas_12m\", axs[1])\n",
    "plot_distribution(consumption, \"cons_last_month\", axs[2])\n",
    "plot_distribution(consumption, \"imp_cons\", axs[3])"
   ]
  },
  {
   "cell_type": "markdown",
   "metadata": {},
   "source": [
    "We can clearly see in here that the consumption data is highly skewedtotheright, presenting a very long right-tail towards the higher values of thedistribution.\n",
    "\n",
    "\n",
    "Note:The values on the higher end and lower ends of the distribution are likely to be outliers. We can use a standard plot to visualise the outliers in moredetail. A boxplot is a standardized way of displaying the distribution of data based on a five number summary (“minimum”, first quartile (Q1), median,third quartile (Q3), and “maximum”). It can tell us about our outliers and what their values are. It can also tell us if our data is symmetrical, how tightlyour data is grouped, and if and how our data is skewed."
   ]
  },
  {
   "cell_type": "code",
   "execution_count": 153,
   "metadata": {},
   "outputs": [
    {
     "data": {
      "image/png": "[encoded data removed]",
      "text/plain": [
       "<Figure size 1296x1800 with 4 Axes>"
      ]
     },
     "metadata": {
      "needs_background": "light"
     },
     "output_type": "display_data"
    }
   ],
   "source": [
    "fig, axs=plt.subplots(nrows=4, figsize=(18,25))\n",
    "# Plot histogram\n",
    "sns.boxplot(consumption[\"cons_12m\"], ax=axs[0])\n",
    "sns.boxplot(consumption[consumption[\"has_gas\"] ==\"t\"][\"cons_gas_12m\"], ax=axs[1])\n",
    "sns.boxplot(consumption[\"cons_last_month\"], ax=axs[2])\n",
    "sns.boxplot(consumption[\"imp_cons\"], ax=axs[3])\n",
    "# Remove scientific notation\n",
    "for ax in axs:\n",
    "    ax.ticklabel_format(style='plain', axis='x')\n",
    "    # Set x-axis limit\n",
    "    axs[0].set_xlim(-200000, 2000000)\n",
    "    axs[1].set_xlim(-200000, 2000000)\n",
    "    axs[2].set_xlim(-20000, 100000)\n",
    "    plt.show()"
   ]
  },
  {
   "cell_type": "markdown",
   "metadata": {},
   "source": [
    "It shows that we have a highly skwerd distribution, with some outliers."
   ]
  },
  {
   "cell_type": "markdown",
   "metadata": {},
   "source": [
    "### Dates"
   ]
  },
  {
   "cell_type": "code",
   "execution_count": 154,
   "metadata": {},
   "outputs": [],
   "source": [
    "dates=df[[\"id\",\"date_activ\",\"date_end\", \"date_modif_prod\",\"date_renewal\",\"churn\"]].copy()"
   ]
  },
  {
   "cell_type": "code",
   "execution_count": 155,
   "metadata": {},
   "outputs": [],
   "source": [
    "# Transform date columns to datetime type\n",
    "dates[\"date_activ\"] =pd.to_datetime(dates[\"date_activ\"], format='%Y-%m-%d')\n",
    "dates[\"date_end\"] =pd.to_datetime(dates[\"date_end\"], format='%Y-%m-%d')\n",
    "dates[\"date_modif_prod\"] =pd.to_datetime(dates[\"date_modif_prod\"], format='%Y-%m-%d')\n",
    "dates[\"date_renewal\"] =pd.to_datetime(dates[\"date_renewal\"], format='%Y-%m-%d')"
   ]
  },
  {
   "cell_type": "code",
   "execution_count": 157,
   "metadata": {},
   "outputs": [],
   "source": [
    "def plot_dates(dataframe, column, fontsize_=12):\n",
    "    \"\"\"    \n",
    "    Plot monthly churn and retention distribution    \n",
    "    \"\"\"\n",
    "    # Group by month\n",
    "    temp=dataframe[[column,\n",
    "                    \"churn\",\n",
    "                    \"id\"]].set_index(column).groupby([pd.Grouper(freq='M'), \"churn\"]).count().unstack(level=1)\n",
    "    # Plot\n",
    "    ax=temp.plot(kind=\"bar\", stacked=True, figsize=(18,10), rot=0)\n",
    "    # Change x-axis labels to months\n",
    "    ax.set_xticklabels(map(lambda x: line_format(x), temp.index))\n",
    "    # Change xlabel size\n",
    "    plt.xticks(fontsize=fontsize_)\n",
    "    # Rename y-axis\n",
    "    plt.ylabel(\"Number of companies\")\n",
    "    # Rename legend\n",
    "    plt.legend([\"Retention\", \"Churn\"], loc=\"upper right\")\n",
    "    plt.show()\n",
    "    \n",
    "    \n",
    "def line_format(label):\n",
    "    \"\"\"    \n",
    "    Convert time label to the format of pandas line plot    \n",
    "    \"\"\"\n",
    "    month=label.month_name()[:1]\n",
    "    if label.month_name() ==\"January\":\n",
    "        month+=f'\\n{label.year}'\n",
    "    return month    \n",
    "    \n",
    "    "
   ]
  },
  {
   "cell_type": "code",
   "execution_count": 158,
   "metadata": {},
   "outputs": [
    {
     "data": {
      "image/png": "[encoded data removed]",
      "text/plain": [
       "<Figure size 1296x720 with 1 Axes>"
      ]
     },
     "metadata": {
      "needs_background": "light"
     },
     "output_type": "display_data"
    }
   ],
   "source": [
    "plot_dates(dates, \"date_activ\", fontsize_=8)"
   ]
  },
  {
   "cell_type": "code",
   "execution_count": 159,
   "metadata": {},
   "outputs": [
    {
     "data": {
      "image/png": "[encoded data removed]",
      "text/plain": [
       "<Figure size 1296x720 with 1 Axes>"
      ]
     },
     "metadata": {
      "needs_background": "light"
     },
     "output_type": "display_data"
    }
   ],
   "source": [
    "plot_dates(dates, \"date_end\")"
   ]
  },
  {
   "cell_type": "code",
   "execution_count": 160,
   "metadata": {},
   "outputs": [
    {
     "data": {
      "image/png": "[encoded data removed]",
      "text/plain": [
       "<Figure size 1296x720 with 1 Axes>"
      ]
     },
     "metadata": {
      "needs_background": "light"
     },
     "output_type": "display_data"
    }
   ],
   "source": [
    "plot_dates(dates, \"date_modif_prod\", fontsize_=8)"
   ]
  },
  {
   "cell_type": "code",
   "execution_count": 162,
   "metadata": {},
   "outputs": [
    {
     "data": {
      "image/png": "[encoded data removed]",
      "text/plain": [
       "<Figure size 1296x720 with 1 Axes>"
      ]
     },
     "metadata": {
      "needs_background": "light"
     },
     "output_type": "display_data"
    }
   ],
   "source": [
    "plot_dates(dates, \"date_renewal\")"
   ]
  },
  {
   "cell_type": "markdown",
   "metadata": {},
   "source": [
    "### Forecast"
   ]
  },
  {
   "cell_type": "code",
   "execution_count": 163,
   "metadata": {},
   "outputs": [],
   "source": [
    "forecast=df[[\"id\",\"forecast_base_bill_ele\",\"forecast_base_bill_year\",\n",
    "                \"forecast_bill_12m\",\"forecast_cons\",\"forecast_cons_12m\",\n",
    "                \"forecast_cons_year\",\"forecast_discount_energy\",\"forecast_meter_rent_12m\",\n",
    "                \"forecast_price_energy_p1\",\"forecast_price_energy_p2\",\n",
    "                \"forecast_price_pow_p1\",\"churn\"]]"
   ]
  },
  {
   "cell_type": "code",
   "execution_count": 165,
   "metadata": {},
   "outputs": [
    {
     "data": {
      "image/png": "[encoded data removed]",
      "text/plain": [
       "<Figure size 1296x3600 with 11 Axes>"
      ]
     },
     "metadata": {
      "needs_background": "light"
     },
     "output_type": "display_data"
    }
   ],
   "source": [
    "fig, axs=plt.subplots(nrows=11, figsize=(18,50))\n",
    "# Plot histogram\n",
    "plot_distribution(df, \"forecast_base_bill_ele\", axs[0])\n",
    "plot_distribution(df, \"forecast_base_bill_year\", axs[1])\n",
    "plot_distribution(df, \"forecast_bill_12m\", axs[2])\n",
    "plot_distribution(df, \"forecast_cons\", axs[3])\n",
    "plot_distribution(df, \"forecast_cons_12m\", axs[4])\n",
    "plot_distribution(df, \"forecast_cons_year\", axs[5])\n",
    "plot_distribution(df, \"forecast_discount_energy\", axs[6])\n",
    "plot_distribution(df, \"forecast_meter_rent_12m\", axs[7])\n",
    "plot_distribution(df, \"forecast_price_energy_p1\", axs[8])\n",
    "plot_distribution(df, \"forecast_price_energy_p2\", axs[9])\n",
    "plot_distribution(df, \"forecast_price_pow_p1\", axs[10])"
   ]
  },
  {
   "cell_type": "markdown",
   "metadata": {},
   "source": [
    "Similarly to the consumption plots, we can observe that a lot of the variables are highly skewed to the right, creating a very long tail on the higher values."
   ]
  },
  {
   "cell_type": "markdown",
   "metadata": {},
   "source": [
    "### Contract type (electricity, gas)"
   ]
  },
  {
   "cell_type": "code",
   "execution_count": 166,
   "metadata": {},
   "outputs": [],
   "source": [
    "contract_type=df[[\"id\", \"has_gas\", \"churn\"]]"
   ]
  },
  {
   "cell_type": "code",
   "execution_count": 167,
   "metadata": {},
   "outputs": [],
   "source": [
    "contract=contract_type.groupby([contract_type[\"churn\"],\n",
    "                                contract_type[\"has_gas\"]])[\"id\"].count().unstack(level=0)"
   ]
  },
  {
   "cell_type": "code",
   "execution_count": 168,
   "metadata": {},
   "outputs": [],
   "source": [
    "contract_percentage= (contract.div(contract.sum(axis=1), axis=0)*100).sort_values(by=[1], ascending=False)"
   ]
  },
  {
   "cell_type": "code",
   "execution_count": 169,
   "metadata": {},
   "outputs": [
    {
     "data": {
      "image/png": "[encoded data removed]",
      "text/plain": [
       "<Figure size 1296x720 with 1 Axes>"
      ]
     },
     "metadata": {
      "needs_background": "light"
     },
     "output_type": "display_data"
    }
   ],
   "source": [
    "plot_stacked_bars(contract_percentage, \"Contract type (with gas)\")"
   ]
  },
  {
   "cell_type": "markdown",
   "metadata": {},
   "source": [
    "### Margins"
   ]
  },
  {
   "cell_type": "code",
   "execution_count": 170,
   "metadata": {},
   "outputs": [],
   "source": [
    "margin=df[[\"id\",\"margin_gross_pow_ele\",\"margin_net_pow_ele\",\"net_margin\"]]"
   ]
  },
  {
   "cell_type": "code",
   "execution_count": 172,
   "metadata": {},
   "outputs": [
    {
     "data": {
      "image/png": "[encoded data removed]",
      "text/plain": [
       "<Figure size 1296x1440 with 3 Axes>"
      ]
     },
     "metadata": {
      "needs_background": "light"
     },
     "output_type": "display_data"
    }
   ],
   "source": [
    "fig, axs=plt.subplots(nrows=3, figsize=(18,20))\n",
    "# Plot histogram\n",
    "sns.boxplot(margin[\"margin_gross_pow_ele\"], ax=axs[0])\n",
    "sns.boxplot(margin[\"margin_net_pow_ele\"],ax=axs[1])\n",
    "sns.boxplot(margin[\"net_margin\"], ax=axs[2])\n",
    "\n",
    "# Remove scientific notation\n",
    "axs[0].ticklabel_format(style='plain', axis='x')\n",
    "axs[1].ticklabel_format(style='plain', axis='x')\n",
    "axs[2].ticklabel_format(style='plain', axis='x')\n",
    "plt.show()"
   ]
  },
  {
   "cell_type": "markdown",
   "metadata": {},
   "source": [
    "can observe a few outliers in here as well."
   ]
  },
  {
   "cell_type": "markdown",
   "metadata": {},
   "source": [
    "### Subscribed power"
   ]
  },
  {
   "cell_type": "code",
   "execution_count": 173,
   "metadata": {},
   "outputs": [],
   "source": [
    "power=df[[\"id\",\"pow_max\", \"churn\"]].fillna(0)"
   ]
  },
  {
   "cell_type": "code",
   "execution_count": 174,
   "metadata": {},
   "outputs": [
    {
     "data": {
      "image/png": "[encoded data removed]",
      "text/plain": [
       "<Figure size 1296x720 with 1 Axes>"
      ]
     },
     "metadata": {
      "needs_background": "light"
     },
     "output_type": "display_data"
    }
   ],
   "source": [
    "fig, axs=plt.subplots(nrows=1, figsize=(18,10))\n",
    "plot_distribution(power, \"pow_max\", axs)"
   ]
  },
  {
   "cell_type": "markdown",
   "metadata": {},
   "source": [
    "### Others"
   ]
  },
  {
   "cell_type": "code",
   "execution_count": 175,
   "metadata": {},
   "outputs": [],
   "source": [
    "others=df[[\"id\",\"nb_prod_act\",\"num_years_antig\", \"origin_up\", \"churn\"]]"
   ]
  },
  {
   "cell_type": "code",
   "execution_count": 176,
   "metadata": {},
   "outputs": [
    {
     "data": {
      "image/png": "[encoded data removed]",
      "text/plain": [
       "<Figure size 1296x720 with 1 Axes>"
      ]
     },
     "metadata": {
      "needs_background": "light"
     },
     "output_type": "display_data"
    }
   ],
   "source": [
    "products=others.groupby([others[\"nb_prod_act\"],others[\"churn\"]])[\"id\"].count().unstack(level=1)\n",
    "products_percentage= (products.div(products.sum(axis=1), axis=0)*100).sort_values(by=[1], ascending=False)\n",
    "plot_stacked_bars(products_percentage, \"Number of products\")"
   ]
  },
  {
   "cell_type": "code",
   "execution_count": 177,
   "metadata": {},
   "outputs": [
    {
     "data": {
      "image/png": "[encoded data removed]",
      "text/plain": [
       "<Figure size 1296x720 with 1 Axes>"
      ]
     },
     "metadata": {
      "needs_background": "light"
     },
     "output_type": "display_data"
    }
   ],
   "source": [
    "years_antig=others.groupby([others[\"num_years_antig\"],others[\"churn\"]])[\"id\"].count().unstack(level=1)\n",
    "years_antig_percentage= (years_antig.div(years_antig.sum(axis=1), axis=0)*100)\n",
    "plot_stacked_bars(years_antig_percentage, \"Number years\")"
   ]
  },
  {
   "cell_type": "code",
   "execution_count": 178,
   "metadata": {},
   "outputs": [
    {
     "data": {
      "image/png": "[encoded data removed]",
      "text/plain": [
       "<Figure size 1296x720 with 1 Axes>"
      ]
     },
     "metadata": {
      "needs_background": "light"
     },
     "output_type": "display_data"
    }
   ],
   "source": [
    "origin=others.groupby([others[\"origin_up\"],others[\"churn\"]])[\"id\"].count().unstack(level=1)\n",
    "origin_percentage= (origin.div(origin.sum(axis=1), axis=0)*100)\n",
    "plot_stacked_bars(origin_percentage, \"Origin contract/offer\")"
   ]
  },
  {
   "cell_type": "code",
   "execution_count": null,
   "metadata": {},
   "outputs": [],
   "source": []
  },
  {
   "cell_type": "code",
   "execution_count": null,
   "metadata": {},
   "outputs": [],
   "source": []
  },
  {
   "cell_type": "markdown",
   "metadata": {},
   "source": [
    "## Pickling"
   ]
  },
  {
   "cell_type": "markdown",
   "metadata": {},
   "source": [
    "Pickling is useful for applications where we need some degree of persistency in our data. Our program's state data can be saved to disk, so we cancontinue working on it later on.\n",
    "\n",
    "Make directory processed_data if it does not exist already"
   ]
  },
  {
   "cell_type": "code",
   "execution_count": 181,
   "metadata": {},
   "outputs": [],
   "source": [
    "import os\n",
    "if not os.path.exists(os.path.join(\"..\", \"processed_data\")):\n",
    "    os.makedirs(os.path.join(\"..\", \"processed_data\"))"
   ]
  },
  {
   "cell_type": "code",
   "execution_count": 182,
   "metadata": {},
   "outputs": [],
   "source": [
    "PICKLE_TRAIN_DIR=os.path.join(\"..\", \"processed_data\", \"train_data.pkl\")\n",
    "PICKLE_HISTORY_DIR=os.path.join(\"..\", \"processed_data\", \"history_data.pkl\")"
   ]
  },
  {
   "cell_type": "code",
   "execution_count": 185,
   "metadata": {},
   "outputs": [],
   "source": [
    "pd.to_pickle(df, PICKLE_TRAIN_DIR)\n",
    "pd.to_pickle(hist_data, PICKLE_HISTORY_DIR)"
   ]
  },
  {
   "cell_type": "code",
   "execution_count": null,
   "metadata": {},
   "outputs": [],
   "source": []
  },
  {
   "cell_type": "code",
   "execution_count": null,
   "metadata": {},
   "outputs": [],
   "source": []
  },
  {
   "cell_type": "code",
   "execution_count": null,
   "metadata": {},
   "outputs": [],
   "source": []
  },
  {
   "cell_type": "code",
   "execution_count": 96,
   "metadata": {},
   "outputs": [],
   "source": [
    "# mean values for numeric columns and the most frequent value for non-numeric columns\n",
    "from sklearn.base import TransformerMixin\n",
    "\n",
    "class DataFrameImputer(TransformerMixin):\n",
    "\n",
    "    def __init__(self):\n",
    "        \"\"\"Impute missing values.\n",
    "\n",
    "        Columns of dtype object are imputed with the most frequent value \n",
    "        in column.\n",
    "\n",
    "        Columns of other types are imputed with mean of column.\n",
    "\n",
    "        \"\"\"\n",
    "    def fit(self, X, y=None):\n",
    "\n",
    "        self.fill = pd.Series([X[c].value_counts().index[0]\n",
    "            if X[c].dtype == np.dtype('O') else X[c].mean() for c in X],\n",
    "            index=X.columns)\n",
    "\n",
    "        return self\n",
    "\n",
    "    def transform(self, X, y=None):\n",
    "        return X.fillna(self.fill)"
   ]
  },
  {
   "cell_type": "code",
   "execution_count": 97,
   "metadata": {},
   "outputs": [],
   "source": [
    "data_2 = DataFrameImputer().fit_transform(data_1)"
   ]
  },
  {
   "cell_type": "code",
   "execution_count": null,
   "metadata": {},
   "outputs": [],
   "source": []
  },
  {
   "cell_type": "code",
   "execution_count": 66,
   "metadata": {},
   "outputs": [
    {
     "data": {
      "text/html": [
       "<div>\n",
       "<style scoped>\n",
       "    .dataframe tbody tr th:only-of-type {\n",
       "        vertical-align: middle;\n",
       "    }\n",
       "\n",
       "    .dataframe tbody tr th {\n",
       "        vertical-align: top;\n",
       "    }\n",
       "\n",
       "    .dataframe thead th {\n",
       "        text-align: right;\n",
       "    }\n",
       "</style>\n",
       "<table border=\"1\" class=\"dataframe\">\n",
       "  <thead>\n",
       "    <tr style=\"text-align: right;\">\n",
       "      <th></th>\n",
       "      <th>id</th>\n",
       "      <th>price_date</th>\n",
       "      <th>price_p1_var</th>\n",
       "      <th>price_p2_var</th>\n",
       "      <th>price_p3_var</th>\n",
       "      <th>price_p1_fix</th>\n",
       "      <th>price_p2_fix</th>\n",
       "      <th>price_p3_fix</th>\n",
       "    </tr>\n",
       "  </thead>\n",
       "  <tbody>\n",
       "    <tr>\n",
       "      <th>0</th>\n",
       "      <td>038af19179925da21a25619c5a24b745</td>\n",
       "      <td>2015-01-01</td>\n",
       "      <td>0.151367</td>\n",
       "      <td>0.0</td>\n",
       "      <td>0.0</td>\n",
       "      <td>44.266931</td>\n",
       "      <td>0.0</td>\n",
       "      <td>0.0</td>\n",
       "    </tr>\n",
       "    <tr>\n",
       "      <th>1</th>\n",
       "      <td>038af19179925da21a25619c5a24b745</td>\n",
       "      <td>2015-02-01</td>\n",
       "      <td>0.151367</td>\n",
       "      <td>0.0</td>\n",
       "      <td>0.0</td>\n",
       "      <td>44.266931</td>\n",
       "      <td>0.0</td>\n",
       "      <td>0.0</td>\n",
       "    </tr>\n",
       "    <tr>\n",
       "      <th>2</th>\n",
       "      <td>038af19179925da21a25619c5a24b745</td>\n",
       "      <td>2015-03-01</td>\n",
       "      <td>0.151367</td>\n",
       "      <td>0.0</td>\n",
       "      <td>0.0</td>\n",
       "      <td>44.266931</td>\n",
       "      <td>0.0</td>\n",
       "      <td>0.0</td>\n",
       "    </tr>\n",
       "    <tr>\n",
       "      <th>3</th>\n",
       "      <td>038af19179925da21a25619c5a24b745</td>\n",
       "      <td>2015-04-01</td>\n",
       "      <td>0.149626</td>\n",
       "      <td>0.0</td>\n",
       "      <td>0.0</td>\n",
       "      <td>44.266931</td>\n",
       "      <td>0.0</td>\n",
       "      <td>0.0</td>\n",
       "    </tr>\n",
       "    <tr>\n",
       "      <th>4</th>\n",
       "      <td>038af19179925da21a25619c5a24b745</td>\n",
       "      <td>2015-05-01</td>\n",
       "      <td>0.149626</td>\n",
       "      <td>0.0</td>\n",
       "      <td>0.0</td>\n",
       "      <td>44.266931</td>\n",
       "      <td>0.0</td>\n",
       "      <td>0.0</td>\n",
       "    </tr>\n",
       "  </tbody>\n",
       "</table>\n",
       "</div>"
      ],
      "text/plain": [
       "                                 id  price_date  price_p1_var  price_p2_var  \\\n",
       "0  038af19179925da21a25619c5a24b745  2015-01-01      0.151367           0.0   \n",
       "1  038af19179925da21a25619c5a24b745  2015-02-01      0.151367           0.0   \n",
       "2  038af19179925da21a25619c5a24b745  2015-03-01      0.151367           0.0   \n",
       "3  038af19179925da21a25619c5a24b745  2015-04-01      0.149626           0.0   \n",
       "4  038af19179925da21a25619c5a24b745  2015-05-01      0.149626           0.0   \n",
       "\n",
       "   price_p3_var  price_p1_fix  price_p2_fix  price_p3_fix  \n",
       "0           0.0     44.266931           0.0           0.0  \n",
       "1           0.0     44.266931           0.0           0.0  \n",
       "2           0.0     44.266931           0.0           0.0  \n",
       "3           0.0     44.266931           0.0           0.0  \n",
       "4           0.0     44.266931           0.0           0.0  "
      ]
     },
     "execution_count": 66,
     "metadata": {},
     "output_type": "execute_result"
    }
   ],
   "source": [
    "hist_data.head()"
   ]
  },
  {
   "cell_type": "code",
   "execution_count": 67,
   "metadata": {},
   "outputs": [
    {
     "data": {
      "text/plain": [
       "id                 0\n",
       "price_date         0\n",
       "price_p1_var    1359\n",
       "price_p2_var    1359\n",
       "price_p3_var    1359\n",
       "price_p1_fix    1359\n",
       "price_p2_fix    1359\n",
       "price_p3_fix    1359\n",
       "dtype: int64"
      ]
     },
     "execution_count": 67,
     "metadata": {},
     "output_type": "execute_result"
    }
   ],
   "source": [
    "# count number of NAN for each column\n",
    "hist_data.isnull().sum()"
   ]
  },
  {
   "cell_type": "markdown",
   "metadata": {},
   "source": [
    "### Outliers\n"
   ]
  },
  {
   "cell_type": "code",
   "execution_count": 57,
   "metadata": {},
   "outputs": [
    {
     "data": {
      "text/plain": [
       "<matplotlib.axes._subplots.AxesSubplot at 0x26fb3339d30>"
      ]
     },
     "execution_count": 57,
     "metadata": {},
     "output_type": "execute_result"
    },
    {
     "data": {
      "image/png": "[encoded data removed]",
      "text/plain": [
       "<Figure size 432x288 with 1 Axes>"
      ]
     },
     "metadata": {
      "needs_background": "light"
     },
     "output_type": "display_data"
    }
   ],
   "source": [
    "# histogram of life_sq.\n",
    "data_1['num_years_antig'].hist(bins=100)"
   ]
  },
  {
   "cell_type": "code",
   "execution_count": null,
   "metadata": {},
   "outputs": [],
   "source": []
  },
  {
   "cell_type": "markdown",
   "metadata": {},
   "source": [
    "## Exploratory Data Analysis"
   ]
  },
  {
   "cell_type": "code",
   "execution_count": 87,
   "metadata": {},
   "outputs": [
    {
     "data": {
      "text/html": [
       "<div>\n",
       "<style scoped>\n",
       "    .dataframe tbody tr th:only-of-type {\n",
       "        vertical-align: middle;\n",
       "    }\n",
       "\n",
       "    .dataframe tbody tr th {\n",
       "        vertical-align: top;\n",
       "    }\n",
       "\n",
       "    .dataframe thead th {\n",
       "        text-align: right;\n",
       "    }\n",
       "</style>\n",
       "<table border=\"1\" class=\"dataframe\">\n",
       "  <thead>\n",
       "    <tr style=\"text-align: right;\">\n",
       "      <th></th>\n",
       "      <th>id</th>\n",
       "      <th>channel_sales</th>\n",
       "      <th>cons_12m</th>\n",
       "      <th>cons_gas_12m</th>\n",
       "      <th>cons_last_month</th>\n",
       "      <th>date_activ</th>\n",
       "      <th>date_end</th>\n",
       "      <th>date_modif_prod</th>\n",
       "      <th>date_renewal</th>\n",
       "      <th>forecast_cons_12m</th>\n",
       "      <th>...</th>\n",
       "      <th>has_gas</th>\n",
       "      <th>imp_cons</th>\n",
       "      <th>margin_gross_pow_ele</th>\n",
       "      <th>margin_net_pow_ele</th>\n",
       "      <th>nb_prod_act</th>\n",
       "      <th>net_margin</th>\n",
       "      <th>num_years_antig</th>\n",
       "      <th>origin_up</th>\n",
       "      <th>pow_max</th>\n",
       "      <th>churn</th>\n",
       "    </tr>\n",
       "  </thead>\n",
       "  <tbody>\n",
       "    <tr>\n",
       "      <th>0</th>\n",
       "      <td>48ada52261e7cf58715202705a0451c9</td>\n",
       "      <td>lmkebamcaaclubfxadlmueccxoimlema</td>\n",
       "      <td>309275</td>\n",
       "      <td>0</td>\n",
       "      <td>10025</td>\n",
       "      <td>2012-11-07</td>\n",
       "      <td>2016-11-06</td>\n",
       "      <td>2012-11-07</td>\n",
       "      <td>2015-11-09</td>\n",
       "      <td>26520.30</td>\n",
       "      <td>...</td>\n",
       "      <td>f</td>\n",
       "      <td>831.8</td>\n",
       "      <td>-41.76</td>\n",
       "      <td>-41.76</td>\n",
       "      <td>1</td>\n",
       "      <td>1732.36</td>\n",
       "      <td>3</td>\n",
       "      <td>ldkssxwpmemidmecebumciepifcamkci</td>\n",
       "      <td>180.000</td>\n",
       "      <td>0</td>\n",
       "    </tr>\n",
       "    <tr>\n",
       "      <th>1</th>\n",
       "      <td>24011ae4ebbe3035111d65fa7c15bc57</td>\n",
       "      <td>foosdfpfkusacimwkcsosbicdxkicaua</td>\n",
       "      <td>0</td>\n",
       "      <td>54946</td>\n",
       "      <td>0</td>\n",
       "      <td>2013-06-15</td>\n",
       "      <td>2016-06-15</td>\n",
       "      <td>NaN</td>\n",
       "      <td>2015-06-23</td>\n",
       "      <td>0.00</td>\n",
       "      <td>...</td>\n",
       "      <td>t</td>\n",
       "      <td>0.0</td>\n",
       "      <td>25.44</td>\n",
       "      <td>25.44</td>\n",
       "      <td>2</td>\n",
       "      <td>678.99</td>\n",
       "      <td>3</td>\n",
       "      <td>lxidpiddsbxsbosboudacockeimpuepw</td>\n",
       "      <td>43.648</td>\n",
       "      <td>1</td>\n",
       "    </tr>\n",
       "    <tr>\n",
       "      <th>2</th>\n",
       "      <td>d29c2c54acc38ff3c0614d0a653813dd</td>\n",
       "      <td>NaN</td>\n",
       "      <td>4660</td>\n",
       "      <td>0</td>\n",
       "      <td>0</td>\n",
       "      <td>2009-08-21</td>\n",
       "      <td>2016-08-30</td>\n",
       "      <td>2009-08-21</td>\n",
       "      <td>2015-08-31</td>\n",
       "      <td>189.95</td>\n",
       "      <td>...</td>\n",
       "      <td>f</td>\n",
       "      <td>0.0</td>\n",
       "      <td>16.38</td>\n",
       "      <td>16.38</td>\n",
       "      <td>1</td>\n",
       "      <td>18.89</td>\n",
       "      <td>6</td>\n",
       "      <td>kamkkxfxxuwbdslkwifmmcsiusiuosws</td>\n",
       "      <td>13.800</td>\n",
       "      <td>0</td>\n",
       "    </tr>\n",
       "    <tr>\n",
       "      <th>3</th>\n",
       "      <td>764c75f661154dac3a6c254cd082ea7d</td>\n",
       "      <td>foosdfpfkusacimwkcsosbicdxkicaua</td>\n",
       "      <td>544</td>\n",
       "      <td>0</td>\n",
       "      <td>0</td>\n",
       "      <td>2010-04-16</td>\n",
       "      <td>2016-04-16</td>\n",
       "      <td>2010-04-16</td>\n",
       "      <td>2015-04-17</td>\n",
       "      <td>47.96</td>\n",
       "      <td>...</td>\n",
       "      <td>f</td>\n",
       "      <td>0.0</td>\n",
       "      <td>28.60</td>\n",
       "      <td>28.60</td>\n",
       "      <td>1</td>\n",
       "      <td>6.60</td>\n",
       "      <td>6</td>\n",
       "      <td>kamkkxfxxuwbdslkwifmmcsiusiuosws</td>\n",
       "      <td>13.856</td>\n",
       "      <td>0</td>\n",
       "    </tr>\n",
       "    <tr>\n",
       "      <th>4</th>\n",
       "      <td>bba03439a292a1e166f80264c16191cb</td>\n",
       "      <td>lmkebamcaaclubfxadlmueccxoimlema</td>\n",
       "      <td>1584</td>\n",
       "      <td>0</td>\n",
       "      <td>0</td>\n",
       "      <td>2010-03-30</td>\n",
       "      <td>2016-03-30</td>\n",
       "      <td>2010-03-30</td>\n",
       "      <td>2015-03-31</td>\n",
       "      <td>240.04</td>\n",
       "      <td>...</td>\n",
       "      <td>f</td>\n",
       "      <td>0.0</td>\n",
       "      <td>30.22</td>\n",
       "      <td>30.22</td>\n",
       "      <td>1</td>\n",
       "      <td>25.46</td>\n",
       "      <td>6</td>\n",
       "      <td>kamkkxfxxuwbdslkwifmmcsiusiuosws</td>\n",
       "      <td>13.200</td>\n",
       "      <td>0</td>\n",
       "    </tr>\n",
       "  </tbody>\n",
       "</table>\n",
       "<p>5 rows × 26 columns</p>\n",
       "</div>"
      ],
      "text/plain": [
       "                                 id                     channel_sales  \\\n",
       "0  48ada52261e7cf58715202705a0451c9  lmkebamcaaclubfxadlmueccxoimlema   \n",
       "1  24011ae4ebbe3035111d65fa7c15bc57  foosdfpfkusacimwkcsosbicdxkicaua   \n",
       "2  d29c2c54acc38ff3c0614d0a653813dd                               NaN   \n",
       "3  764c75f661154dac3a6c254cd082ea7d  foosdfpfkusacimwkcsosbicdxkicaua   \n",
       "4  bba03439a292a1e166f80264c16191cb  lmkebamcaaclubfxadlmueccxoimlema   \n",
       "\n",
       "   cons_12m  cons_gas_12m  cons_last_month  date_activ    date_end  \\\n",
       "0    309275             0            10025  2012-11-07  2016-11-06   \n",
       "1         0         54946                0  2013-06-15  2016-06-15   \n",
       "2      4660             0                0  2009-08-21  2016-08-30   \n",
       "3       544             0                0  2010-04-16  2016-04-16   \n",
       "4      1584             0                0  2010-03-30  2016-03-30   \n",
       "\n",
       "  date_modif_prod date_renewal  forecast_cons_12m  ...  has_gas  imp_cons  \\\n",
       "0      2012-11-07   2015-11-09           26520.30  ...        f     831.8   \n",
       "1             NaN   2015-06-23               0.00  ...        t       0.0   \n",
       "2      2009-08-21   2015-08-31             189.95  ...        f       0.0   \n",
       "3      2010-04-16   2015-04-17              47.96  ...        f       0.0   \n",
       "4      2010-03-30   2015-03-31             240.04  ...        f       0.0   \n",
       "\n",
       "   margin_gross_pow_ele  margin_net_pow_ele  nb_prod_act  net_margin  \\\n",
       "0                -41.76              -41.76            1     1732.36   \n",
       "1                 25.44               25.44            2      678.99   \n",
       "2                 16.38               16.38            1       18.89   \n",
       "3                 28.60               28.60            1        6.60   \n",
       "4                 30.22               30.22            1       25.46   \n",
       "\n",
       "  num_years_antig                         origin_up  pow_max  churn  \n",
       "0               3  ldkssxwpmemidmecebumciepifcamkci  180.000      0  \n",
       "1               3  lxidpiddsbxsbosboudacockeimpuepw   43.648      1  \n",
       "2               6  kamkkxfxxuwbdslkwifmmcsiusiuosws   13.800      0  \n",
       "3               6  kamkkxfxxuwbdslkwifmmcsiusiuosws   13.856      0  \n",
       "4               6  kamkkxfxxuwbdslkwifmmcsiusiuosws   13.200      0  \n",
       "\n",
       "[5 rows x 26 columns]"
      ]
     },
     "execution_count": 87,
     "metadata": {},
     "output_type": "execute_result"
    }
   ],
   "source": [
    "data_1.head()"
   ]
  },
  {
   "cell_type": "code",
   "execution_count": 98,
   "metadata": {},
   "outputs": [
    {
     "data": {
      "image/png": "[encoded data removed]",
      "text/plain": [
       "<Figure size 1296x432 with 2 Axes>"
      ]
     },
     "metadata": {
      "needs_background": "light"
     },
     "output_type": "display_data"
    }
   ],
   "source": [
    "# Visualization of different sources\n",
    "grouped = data_2[['num_years_antig', 'churn']].groupby('num_years_antig').mean().reset_index()\n",
    "hist_kws={'histtype': 'bar', 'edgecolor':'black', 'alpha': 0.2}\n",
    "\n",
    "fig, ax = plt.subplots(nrows=1, ncols=2, figsize=(18, 6))\n",
    "sns.distplot(data_1[data_2['churn'] == 0]['num_years_antig'], label='churn 0', \n",
    "             ax=ax[0], hist_kws=hist_kws)\n",
    "sns.distplot(data_1[data_2['churn'] == 1]['num_years_antig'], label='churn 1', \n",
    "             ax=ax[0], hist_kws=hist_kws)\n",
    "ax[0].set_title('Count Plot of antiquity', fontsize=16)\n",
    "ax[0].legend()\n",
    "ax[1].plot(grouped['num_years_antig'], grouped['churn'], '.-')\n",
    "ax[1].set_title('Mean Churn Rate vs. antiquity of the client', fontsize=16)\n",
    "ax[1].set_xlabel('antiquity of the client')\n",
    "ax[1].set_ylabel('Mean churn rate')\n",
    "ax[1].grid(True)\n",
    "plt.show()"
   ]
  },
  {
   "cell_type": "code",
   "execution_count": 99,
   "metadata": {},
   "outputs": [
    {
     "data": {
      "image/png": "[encoded data removed]",
      "text/plain": [
       "<Figure size 1296x432 with 2 Axes>"
      ]
     },
     "metadata": {
      "needs_background": "light"
     },
     "output_type": "display_data"
    }
   ],
   "source": [
    "# Visualization of different sources\n",
    "grouped = data_2[['nb_prod_act', 'churn']].groupby('nb_prod_act').mean().reset_index()\n",
    "hist_kws={'histtype': 'bar', 'edgecolor':'black', 'alpha': 0.2}\n",
    "\n",
    "fig, ax = plt.subplots(nrows=1, ncols=2, figsize=(18, 6))\n",
    "sns.distplot(data_2[data_1['churn'] == 0]['nb_prod_act'], label='churn 0', \n",
    "             ax=ax[0], hist_kws=hist_kws)\n",
    "sns.distplot(data_2[data_1['churn'] == 1]['nb_prod_act'], label='churn 1', \n",
    "             ax=ax[0], hist_kws=hist_kws)\n",
    "ax[0].set_title('Count Plot of nb_prod_act', fontsize=16)\n",
    "ax[0].legend()\n",
    "ax[1].plot(grouped['nb_prod_act'], grouped['churn'], '.-')\n",
    "ax[1].set_title('Mean Churn Rate vs. nb_prod_act', fontsize=16)\n",
    "ax[1].set_xlabel('nb_prod_act')\n",
    "ax[1].set_ylabel('Mean churn rate')\n",
    "ax[1].grid(True)\n",
    "plt.show()"
   ]
  },
  {
   "cell_type": "code",
   "execution_count": 102,
   "metadata": {},
   "outputs": [
    {
     "data": {
      "image/png": "[encoded data removed]",
      "text/plain": [
       "<Figure size 1296x432 with 2 Axes>"
      ]
     },
     "metadata": {
      "needs_background": "light"
     },
     "output_type": "display_data"
    }
   ],
   "source": [
    "# Visualization of different sources\n",
    "grouped = data_2[['cons_last_month', 'churn']].groupby('cons_last_month').mean().reset_index()\n",
    "hist_kws={'histtype': 'bar', 'edgecolor':'black', 'alpha': 0.2}\n",
    "\n",
    "fig, ax = plt.subplots(nrows=1, ncols=2, figsize=(18, 6))\n",
    "sns.distplot(data_2[data_1['churn'] == 0]['cons_last_month'], label='churn 0', \n",
    "             ax=ax[0], hist_kws=hist_kws)\n",
    "sns.distplot(data_2[data_1['churn'] == 1]['cons_last_month'], label='churn 1', \n",
    "             ax=ax[0], hist_kws=hist_kws)\n",
    "ax[0].set_title('Count Plot of cons_last_month', fontsize=16)\n",
    "ax[0].legend()\n",
    "ax[1].plot(grouped['cons_last_month'], grouped['churn'], '.-')\n",
    "ax[1].set_title('Mean Churn Rate vs. nb_prod_act', fontsize=16)\n",
    "ax[1].set_xlabel('cons_last_month')\n",
    "ax[1].set_ylabel('Mean churn rate')\n",
    "ax[1].grid(True)\n",
    "plt.show()"
   ]
  },
  {
   "cell_type": "code",
   "execution_count": null,
   "metadata": {},
   "outputs": [],
   "source": []
  },
  {
   "cell_type": "code",
   "execution_count": null,
   "metadata": {},
   "outputs": [],
   "source": []
  },
  {
   "cell_type": "code",
   "execution_count": null,
   "metadata": {},
   "outputs": [],
   "source": []
  }
 ],
 "metadata": {
  "kernelspec": {
   "display_name": "Python 3",
   "language": "python",
   "name": "python3"
  },
  "language_info": {
   "codemirror_mode": {
    "name": "ipython",
    "version": 3
   },
   "file_extension": ".py",
   "mimetype": "text/x-python",
   "name": "python",
   "nbconvert_exporter": "python",
   "pygments_lexer": "ipython3",
   "version": "3.7.1"
  }
 },
 "nbformat": 4,
 "nbformat_minor": 2
}
